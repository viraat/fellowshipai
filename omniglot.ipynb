{
 "cells": [
  {
   "cell_type": "markdown",
   "metadata": {},
   "source": [
    "# Fellowship AI challenge"
   ]
  },
  {
   "cell_type": "markdown",
   "metadata": {},
   "source": [
    "## Challenge goals\n",
    "1. Problem solving ability - did you understand the problem correctly, and did you take logical steps to solve it?  \n",
    "2. Machine learning skills - what sort of models did you use? How rigorous was your exploratory analysis of the data, your choice and fine tuning of models, and your assessment of results.  \n",
    "3. Communication skills - is your solution readable and well explained? Messiness and raw code with no explanation does not reflect well on your potential for working well with our business partners during the fellowship."
   ]
  },
  {
   "cell_type": "markdown",
   "metadata": {},
   "source": [
    "## Mistakes to avoid\n",
    "\n",
    "- Skipping exploratory analysis and feature engineering  \n",
    "Do not jump straight into fitting models without demonstrating to us, in your Jupyter notebook, that you have understood and thought about the dataset.\n",
    "\n",
    "- Choosing models with no explanation  \n",
    "Please use the notebook to explain your thought process. We care about this as much as we care about your results.\n",
    "\n",
    "- Unreadable notebooks  \n",
    "Make sure to run your notebook before sharing so that we can see the results. We won't be running your code on our machines. On the flip side, please do not print out the entire dataset or endless rounds of epochs.\n",
    "\n",
    "- Overly simplistic final results  \n",
    "Your final results should consist of more than a single number or percentage printout. Explain why you chose the success metrics you chose, and analyze what your output means."
   ]
  },
  {
   "cell_type": "markdown",
   "metadata": {},
   "source": [
    "## Questions to Consider\n",
    "Ask yourself why would they have selected this problem for the challenge? What are some gotchas in this domain I should know about?  \n",
    "What is the highest level of accuracy that others have achieved with this dataset or similar problems / datasets ?  \n",
    "What types of visualizations will help me grasp the nature of the problem / data?  \n",
    "What feature engineering might help improve the signal?  \n",
    "Which modeling techniques are good at capturing the types of relationships I see in this data?  \n",
    "Now that I have a model, how can I be sure that I didn't introduce a bug in the code? If results are too good to be true, they probably are!  \n",
    "What are some of the weaknesses of the model and and how can the model be improved with additional work?"
   ]
  },
  {
   "cell_type": "markdown",
   "metadata": {},
   "source": [
    "## Understand OmniGlot"
   ]
  },
  {
   "cell_type": "markdown",
   "metadata": {},
   "source": [
    "Resources \n",
    "Omniglot paper - http://science.sciencemag.org/content/sci/350/6266/1332.full.pdf  \n",
    "Keras - https://sorenbouma.github.io/blog/oneshot/  \n",
    "CS231n - http://cs231n.stanford.edu/reports/2017/pdfs/131.pdf  \n",
    "Siamese nets paper - http://www.cs.cmu.edu/~rsalakhu/papers/oneshot1.pdf  "
   ]
  },
  {
   "cell_type": "markdown",
   "metadata": {},
   "source": [
    "## Exploring the dataset"
   ]
  },
  {
   "cell_type": "code",
   "execution_count": 1,
   "metadata": {},
   "outputs": [],
   "source": [
    "%matplotlib inline\n",
    "%reload_ext autoreload\n",
    "%autoreload 2"
   ]
  },
  {
   "cell_type": "code",
   "execution_count": 2,
   "metadata": {},
   "outputs": [],
   "source": [
    "import numpy as np\n",
    "import matplotlib.pyplot as plt\n",
    "import os, sys"
   ]
  },
  {
   "cell_type": "code",
   "execution_count": 97,
   "metadata": {},
   "outputs": [],
   "source": [
    "import torch\n",
    "import torch.nn as nn"
   ]
  },
  {
   "cell_type": "code",
   "execution_count": 59,
   "metadata": {},
   "outputs": [],
   "source": [
    "import torchvision.datasets as datasets\n",
    "import torchvision.transforms as transforms"
   ]
  },
  {
   "cell_type": "code",
   "execution_count": 60,
   "metadata": {},
   "outputs": [
    {
     "name": "stdout",
     "output_type": "stream",
     "text": [
      "Files already downloaded and verified\n"
     ]
    }
   ],
   "source": [
    "omniglot_trainset = datasets.Omniglot(root='./omniglot_data/', download=True, background=True, transform=None)"
   ]
  },
  {
   "cell_type": "code",
   "execution_count": 61,
   "metadata": {},
   "outputs": [
    {
     "name": "stdout",
     "output_type": "stream",
     "text": [
      "Files already downloaded and verified\n"
     ]
    }
   ],
   "source": [
    "omniglot_evalset = datasets.Omniglot(root='./omniglot_data/', download=True, background=False, transform=None)"
   ]
  },
  {
   "cell_type": "markdown",
   "metadata": {},
   "source": [
    "### basic stats about the dataset"
   ]
  },
  {
   "cell_type": "code",
   "execution_count": 6,
   "metadata": {},
   "outputs": [
    {
     "data": {
      "text/plain": [
       "(19280, 13180)"
      ]
     },
     "execution_count": 6,
     "metadata": {},
     "output_type": "execute_result"
    }
   ],
   "source": [
    "len(omniglot_trainset), len(omniglot_evalset)"
   ]
  },
  {
   "cell_type": "code",
   "execution_count": 7,
   "metadata": {},
   "outputs": [
    {
     "data": {
      "text/plain": [
       "(30, 964)"
      ]
     },
     "execution_count": 7,
     "metadata": {},
     "output_type": "execute_result"
    }
   ],
   "source": [
    "len(omniglot_trainset._alphabets), len(omniglot_trainset._characters)"
   ]
  },
  {
   "cell_type": "code",
   "execution_count": 8,
   "metadata": {},
   "outputs": [
    {
     "data": {
      "text/plain": [
       "['Gujarati',\n",
       " 'Korean',\n",
       " 'Arcadian',\n",
       " 'Malay_(Jawi_-_Arabic)',\n",
       " 'Grantha',\n",
       " 'Blackfoot_(Canadian_Aboriginal_Syllabics)',\n",
       " 'Balinese',\n",
       " 'Futurama',\n",
       " 'N_Ko',\n",
       " 'Burmese_(Myanmar)',\n",
       " 'Anglo-Saxon_Futhorc',\n",
       " 'Mkhedruli_(Georgian)',\n",
       " 'Latin',\n",
       " 'Braille',\n",
       " 'Sanskrit',\n",
       " 'Japanese_(hiragana)',\n",
       " 'Tagalog',\n",
       " 'Greek',\n",
       " 'Ojibwe_(Canadian_Aboriginal_Syllabics)',\n",
       " 'Japanese_(katakana)',\n",
       " 'Early_Aramaic',\n",
       " 'Hebrew',\n",
       " 'Tifinagh',\n",
       " 'Asomtavruli_(Georgian)',\n",
       " 'Armenian',\n",
       " 'Syriac_(Estrangelo)',\n",
       " 'Alphabet_of_the_Magi',\n",
       " 'Cyrillic',\n",
       " 'Bengali',\n",
       " 'Inuktitut_(Canadian_Aboriginal_Syllabics)']"
      ]
     },
     "execution_count": 8,
     "metadata": {},
     "output_type": "execute_result"
    }
   ],
   "source": [
    "omniglot_trainset._alphabets"
   ]
  },
  {
   "cell_type": "code",
   "execution_count": 9,
   "metadata": {},
   "outputs": [
    {
     "data": {
      "image/png": "[encoded data removed]",
      "text/plain": [
       "<Figure size 432x288 with 1 Axes>"
      ]
     },
     "metadata": {},
     "output_type": "display_data"
    }
   ],
   "source": [
    "per_language_count = dict()\n",
    "for a in omniglot_trainset._alphabets:\n",
    "    per_language_count['{}'.format(a)] = len(os.listdir(os.path.join(omniglot_trainset.target_folder, a)))\n",
    "plt.bar(range(len(per_language_count)), list(per_language_count.values()))\n",
    "# plt.xticks(range(len(per_language_count)), list(per_language_count.keys()))\n",
    "plt.show()"
   ]
  },
  {
   "cell_type": "code",
   "execution_count": 10,
   "metadata": {},
   "outputs": [
    {
     "data": {
      "text/plain": [
       "(20, 659)"
      ]
     },
     "execution_count": 10,
     "metadata": {},
     "output_type": "execute_result"
    }
   ],
   "source": [
    "len(omniglot_evalset._alphabets), len(omniglot_evalset._characters)"
   ]
  },
  {
   "cell_type": "code",
   "execution_count": 11,
   "metadata": {},
   "outputs": [
    {
     "data": {
      "text/plain": [
       "['Oriya',\n",
       " 'ULOG',\n",
       " 'Tengwar',\n",
       " 'Malayalam',\n",
       " 'Atlantean',\n",
       " 'Keble',\n",
       " 'Manipuri',\n",
       " 'Gurmukhi',\n",
       " 'Tibetan',\n",
       " 'Aurek-Besh',\n",
       " 'Ge_ez',\n",
       " 'Angelic',\n",
       " 'Old_Church_Slavonic_(Cyrillic)',\n",
       " 'Kannada',\n",
       " 'Avesta',\n",
       " 'Mongolian',\n",
       " 'Syriac_(Serto)',\n",
       " 'Atemayar_Qelisayer',\n",
       " 'Sylheti',\n",
       " 'Glagolitic']"
      ]
     },
     "execution_count": 11,
     "metadata": {},
     "output_type": "execute_result"
    }
   ],
   "source": [
    "omniglot_evalset._alphabets"
   ]
  },
  {
   "cell_type": "code",
   "execution_count": 12,
   "metadata": {},
   "outputs": [
    {
     "data": {
      "image/png": "[encoded data removed]",
      "text/plain": [
       "<Figure size 432x288 with 1 Axes>"
      ]
     },
     "metadata": {},
     "output_type": "display_data"
    }
   ],
   "source": [
    "eval_per_lang_count = dict()\n",
    "for a in omniglot_evalset._alphabets:\n",
    "    eval_per_lang_count['{}'.format(a)] = len(os.listdir(os.path.join(omniglot_evalset.target_folder, a)))\n",
    "plt.bar(range(len(eval_per_lang_count)), list(eval_per_lang_count.values()))\n",
    "# plt.xticks(range(len(eval_per_lang_count)), list(eval_per_lang_count.keys()))\n",
    "plt.show()"
   ]
  },
  {
   "cell_type": "code",
   "execution_count": 13,
   "metadata": {},
   "outputs": [
    {
     "name": "stdout",
     "output_type": "stream",
     "text": [
      "class: Grantha/character22, img shape: (105, 105)\n"
     ]
    },
    {
     "data": {
      "image/png": "[encoded data removed]",
      "text/plain": [
       "<Figure size 432x288 with 1 Axes>"
      ]
     },
     "metadata": {},
     "output_type": "display_data"
    }
   ],
   "source": [
    "ind = np.random.randint(len(omniglot_trainset))\n",
    "img, target = omniglot_trainset[ind]\n",
    "class_name = omniglot_trainset._characters[target]\n",
    "plt.imshow(np.asarray(img), cmap='gray')\n",
    "print('class: {}, img shape: {}'.format(class_name, img.size))"
   ]
  },
  {
   "cell_type": "code",
   "execution_count": 14,
   "metadata": {},
   "outputs": [
    {
     "name": "stdout",
     "output_type": "stream",
     "text": [
      "class: Kannada/character40, img shape: (105, 105)\n"
     ]
    },
    {
     "data": {
      "image/png": "[encoded data removed]",
      "text/plain": [
       "<Figure size 432x288 with 1 Axes>"
      ]
     },
     "metadata": {},
     "output_type": "display_data"
    }
   ],
   "source": [
    "ind = np.random.randint(len(omniglot_evalset))\n",
    "img, target = omniglot_evalset[ind]\n",
    "class_name = omniglot_evalset._characters[target]\n",
    "plt.imshow(np.asarray(img), cmap='gray')\n",
    "print('class: {}, img shape: {}'.format(class_name, img.size))"
   ]
  },
  {
   "cell_type": "markdown",
   "metadata": {},
   "source": [
    "# 1 - nearest neighbour from raw pixel values on the training set"
   ]
  },
  {
   "cell_type": "code",
   "execution_count": 15,
   "metadata": {},
   "outputs": [],
   "source": [
    "from sklearn.neighbors import KNeighborsClassifier\n",
    "from sklearn.model_selection import train_test_split\n",
    "\n",
    "import cv2"
   ]
  },
  {
   "cell_type": "code",
   "execution_count": 16,
   "metadata": {},
   "outputs": [],
   "source": [
    "def flatten_image(img, size=(32, 32)):\n",
    "    flat = cv2.resize(img, size).flatten()\n",
    "    return cv2.normalize(flat, flat, norm_type=cv2.NORM_MINMAX)"
   ]
  },
  {
   "cell_type": "code",
   "execution_count": 17,
   "metadata": {},
   "outputs": [
    {
     "data": {
      "text/plain": [
       "array([1, 1, 1, ..., 1, 1, 1], dtype=uint8)"
      ]
     },
     "execution_count": 17,
     "metadata": {},
     "output_type": "execute_result"
    }
   ],
   "source": [
    "flatten_image(np.asarray(img))"
   ]
  },
  {
   "cell_type": "code",
   "execution_count": 18,
   "metadata": {},
   "outputs": [
    {
     "name": "stdout",
     "output_type": "stream",
     "text": [
      "[INFO] processed 1000/19280\n",
      "[INFO] processed 2000/19280\n",
      "[INFO] processed 3000/19280\n",
      "[INFO] processed 4000/19280\n",
      "[INFO] processed 5000/19280\n",
      "[INFO] processed 6000/19280\n",
      "[INFO] processed 7000/19280\n",
      "[INFO] processed 8000/19280\n",
      "[INFO] processed 9000/19280\n",
      "[INFO] processed 10000/19280\n",
      "[INFO] processed 11000/19280\n",
      "[INFO] processed 12000/19280\n",
      "[INFO] processed 13000/19280\n",
      "[INFO] processed 14000/19280\n",
      "[INFO] processed 15000/19280\n",
      "[INFO] processed 16000/19280\n",
      "[INFO] processed 17000/19280\n",
      "[INFO] processed 18000/19280\n",
      "[INFO] processed 19000/19280\n"
     ]
    }
   ],
   "source": [
    "rawImages = []\n",
    "labels = []\n",
    "for ind, (img, label) in enumerate(omniglot_trainset):\n",
    "    pixels = flatten_image(np.asarray(img))\n",
    "    \n",
    "    rawImages.append(pixels)\n",
    "    labels.append(label)\n",
    "    \n",
    "    if ind > 0 and ind % 1000 == 0:\n",
    "        print(\"[INFO] processed {}/{}\".format(ind, len(omniglot_trainset)))"
   ]
  },
  {
   "cell_type": "code",
   "execution_count": 19,
   "metadata": {},
   "outputs": [
    {
     "name": "stdout",
     "output_type": "stream",
     "text": [
      "[INFO] pixels matrix: 19.28MB\n"
     ]
    }
   ],
   "source": [
    "rawImages = np.array(rawImages)\n",
    "labels = np.array(labels)\n",
    "print(\"[INFO] pixels matrix: {:.2f}MB\".format(rawImages.nbytes / (1024 * 1000.0)))"
   ]
  },
  {
   "cell_type": "code",
   "execution_count": 20,
   "metadata": {},
   "outputs": [],
   "source": [
    "(trainRI, testRI, trainRL, testRL) = train_test_split(rawImages, labels, test_size=0.25, random_state=1791387)"
   ]
  },
  {
   "cell_type": "code",
   "execution_count": 21,
   "metadata": {},
   "outputs": [
    {
     "name": "stdout",
     "output_type": "stream",
     "text": [
      "[INFO] evaluating raw pixel accuracy...\n",
      "[INFO] raw pixel accuracy: 11.04%\n"
     ]
    }
   ],
   "source": [
    "print(\"[INFO] evaluating raw pixel accuracy...\")\n",
    "model = KNeighborsClassifier(n_neighbors=1)\n",
    "model.fit(trainRI, trainRL)\n",
    "acc = model.score(testRI, testRL)\n",
    "print(\"[INFO] raw pixel accuracy: {:.2f}%\".format(acc * 100))"
   ]
  },
  {
   "cell_type": "markdown",
   "metadata": {},
   "source": [
    "## Demo classification run from lake"
   ]
  },
  {
   "cell_type": "code",
   "execution_count": 22,
   "metadata": {},
   "outputs": [
    {
     "name": "stdout",
     "output_type": "stream",
     "text": [
      "One-shot classification demo with Modified Hausdorff Distance\n",
      " run 1 (error 45.0%)\n",
      " run 2 (error 35.0%)\n",
      " run 3 (error 40.0%)\n",
      " run 4 (error 25.0%)\n",
      " run 5 (error 30.0%)\n",
      " run 6 (error 15.0%)\n",
      " run 7 (error 60.0%)\n",
      " run 8 (error 35.0%)\n",
      " run 9 (error 40.0%)\n",
      " run 10 (error 55.0%)\n",
      " run 11 (error 15.0%)\n",
      " run 12 (error 70.0%)\n",
      " run 13 (error 65.0%)\n",
      " run 14 (error 35.0%)\n",
      " run 15 (error 15.0%)\n",
      " run 16 (error 25.0%)\n",
      " run 17 (error 30.0%)\n",
      " run 18 (error 40.0%)\n",
      " run 19 (error 70.0%)\n",
      " run 20 (error 30.0%)\n",
      " average error 38.75%\n"
     ]
    }
   ],
   "source": [
    "# !cd one-shot-classification/all_runs/\n",
    "!python one-shot-classification/all_runs/demo_classification.py"
   ]
  },
  {
   "cell_type": "markdown",
   "metadata": {},
   "source": [
    "## Siamese networks"
   ]
  },
  {
   "cell_type": "code",
   "execution_count": 95,
   "metadata": {},
   "outputs": [],
   "source": [
    "from dataloader import SiameseTestData, SiameseTrainData\n",
    "from networks import SiameseNet\n",
    "from losses import ContrastiveLoss\n",
    "import torchvision.models as models"
   ]
  },
  {
   "cell_type": "code",
   "execution_count": 40,
   "metadata": {},
   "outputs": [],
   "source": [
    "trainset = SiameseTrainData(omniglot_trainset)"
   ]
  },
  {
   "cell_type": "code",
   "execution_count": 41,
   "metadata": {},
   "outputs": [
    {
     "name": "stdout",
     "output_type": "stream",
     "text": [
      "tensor([0.])\n"
     ]
    },
    {
     "data": {
      "image/png": "[encoded data removed]",
      "text/plain": [
       "<Figure size 432x288 with 2 Axes>"
      ]
     },
     "metadata": {},
     "output_type": "display_data"
    }
   ],
   "source": [
    "img1, img2, target = next(iter(trainset))\n",
    "plt.subplot(121)\n",
    "plt.imshow(np.asarray(img2), cmap='gray')\n",
    "plt.subplot(122)\n",
    "plt.imshow(np.asarray(img1), cmap='gray')\n",
    "print(target)"
   ]
  },
  {
   "cell_type": "code",
   "execution_count": 48,
   "metadata": {},
   "outputs": [],
   "source": [
    "testset = SiameseTestData(omniglot_evalset)"
   ]
  },
  {
   "cell_type": "code",
   "execution_count": 57,
   "metadata": {},
   "outputs": [
    {
     "data": {
      "text/plain": [
       "<matplotlib.image.AxesImage at 0x11e1a84a8>"
      ]
     },
     "execution_count": 57,
     "metadata": {},
     "output_type": "execute_result"
    },
    {
     "data": {
      "image/png": "[encoded data removed]",
      "text/plain": [
       "<Figure size 432x288 with 2 Axes>"
      ]
     },
     "metadata": {},
     "output_type": "display_data"
    }
   ],
   "source": [
    "i = 0\n",
    "for img1, img2 in testset:\n",
    "    i+=1\n",
    "    if i == 5:\n",
    "        break\n",
    "plt.subplot(121)\n",
    "plt.imshow(np.asarray(img2), cmap='gray')\n",
    "plt.subplot(122)\n",
    "plt.imshow(np.asarray(img1), cmap='gray')"
   ]
  },
  {
   "cell_type": "code",
   "execution_count": 62,
   "metadata": {},
   "outputs": [],
   "source": [
    "input_size = 32\n",
    "data_transforms = {\n",
    "        'train': transforms.Compose([\n",
    "            transforms.Resize((input_size, input_size)),\n",
    "            transforms.RandomHorizontalFlip(),\n",
    "            transforms.ToTensor(),\n",
    "            transforms.Normalize((0.5, 0.5, 0.5), (0.5, 0.5, 0.5))\n",
    "        ]),\n",
    "        'val': transforms.Compose([\n",
    "            transforms.Resize((input_size, input_size)),\n",
    "            transforms.ToTensor(),\n",
    "            transforms.Normalize((0.5, 0.5, 0.5), (0.5, 0.5, 0.5))])\n",
    "    }"
   ]
  },
  {
   "cell_type": "code",
   "execution_count": 63,
   "metadata": {},
   "outputs": [],
   "source": [
    "from torch.utils.data.sampler import SubsetRandomSampler"
   ]
  },
  {
   "cell_type": "code",
   "execution_count": 64,
   "metadata": {},
   "outputs": [
    {
     "name": "stdout",
     "output_type": "stream",
     "text": [
      "Files already downloaded and verified\n",
      "Files already downloaded and verified\n",
      "Files already downloaded and verified\n"
     ]
    }
   ],
   "source": [
    "omniglot_trainset = datasets.Omniglot(root='./omniglot_data/', download=True, background=True, transform=data_transforms['train'])\n",
    "omniglot_valset = datasets.Omniglot(root='./omniglot_data/', download=True, background=True, transform=data_transforms['val'])\n",
    "omniglot_evalset = datasets.Omniglot(root='./omniglot_data/', download=True, background=False, transform=data_transforms['val'])"
   ]
  },
  {
   "cell_type": "code",
   "execution_count": 90,
   "metadata": {},
   "outputs": [],
   "source": [
    "indices = list(range(len(omniglot_trainset)))\n",
    "split = int(0.15 * len(omniglot_trainset))\n",
    "train_indices = indices[:split]\n",
    "val_indices = indices[split:]\n",
    "train_sampler = SubsetRandomSampler(train_indices)\n",
    "val_sampler = SubsetRandomSampler(val_indices)\n",
    "\n",
    "trainset = SiameseTrainData(omniglot_trainset)\n",
    "valset = SiameseTestData(omniglot_valset)\n",
    "testset = SiameseTestData(omniglot_evalset)"
   ]
  },
  {
   "cell_type": "code",
   "execution_count": 91,
   "metadata": {},
   "outputs": [],
   "source": [
    "trainloader = torch.utils.data.DataLoader(trainset, batch_size=64, sampler=train_sampler, num_workers=4, pin_memory=False)\n",
    "valloader = torch.utils.data.DataLoader(valset, batch_size=64, sampler=val_sampler, num_workers=4, pin_memory=False)"
   ]
  },
  {
   "cell_type": "code",
   "execution_count": 92,
   "metadata": {},
   "outputs": [],
   "source": [
    "device = torch.device(\"cuda:0\" if torch.cuda.is_available() else \"cpu\")"
   ]
  },
  {
   "cell_type": "code",
   "execution_count": 99,
   "metadata": {},
   "outputs": [
    {
     "data": {
      "text/plain": [
       "SiameseNet(\n",
       "  (embedding_net): ResNet(\n",
       "    (conv1): Conv2d(3, 64, kernel_size=(7, 7), stride=(2, 2), padding=(3, 3), bias=False)\n",
       "    (bn1): BatchNorm2d(64, eps=1e-05, momentum=0.1, affine=True, track_running_stats=True)\n",
       "    (relu): ReLU(inplace)\n",
       "    (maxpool): MaxPool2d(kernel_size=3, stride=2, padding=1, dilation=1, ceil_mode=False)\n",
       "    (layer1): Sequential(\n",
       "      (0): BasicBlock(\n",
       "        (conv1): Conv2d(64, 64, kernel_size=(3, 3), stride=(1, 1), padding=(1, 1), bias=False)\n",
       "        (bn1): BatchNorm2d(64, eps=1e-05, momentum=0.1, affine=True, track_running_stats=True)\n",
       "        (relu): ReLU(inplace)\n",
       "        (conv2): Conv2d(64, 64, kernel_size=(3, 3), stride=(1, 1), padding=(1, 1), bias=False)\n",
       "        (bn2): BatchNorm2d(64, eps=1e-05, momentum=0.1, affine=True, track_running_stats=True)\n",
       "      )\n",
       "      (1): BasicBlock(\n",
       "        (conv1): Conv2d(64, 64, kernel_size=(3, 3), stride=(1, 1), padding=(1, 1), bias=False)\n",
       "        (bn1): BatchNorm2d(64, eps=1e-05, momentum=0.1, affine=True, track_running_stats=True)\n",
       "        (relu): ReLU(inplace)\n",
       "        (conv2): Conv2d(64, 64, kernel_size=(3, 3), stride=(1, 1), padding=(1, 1), bias=False)\n",
       "        (bn2): BatchNorm2d(64, eps=1e-05, momentum=0.1, affine=True, track_running_stats=True)\n",
       "      )\n",
       "    )\n",
       "    (layer2): Sequential(\n",
       "      (0): BasicBlock(\n",
       "        (conv1): Conv2d(64, 128, kernel_size=(3, 3), stride=(2, 2), padding=(1, 1), bias=False)\n",
       "        (bn1): BatchNorm2d(128, eps=1e-05, momentum=0.1, affine=True, track_running_stats=True)\n",
       "        (relu): ReLU(inplace)\n",
       "        (conv2): Conv2d(128, 128, kernel_size=(3, 3), stride=(1, 1), padding=(1, 1), bias=False)\n",
       "        (bn2): BatchNorm2d(128, eps=1e-05, momentum=0.1, affine=True, track_running_stats=True)\n",
       "        (downsample): Sequential(\n",
       "          (0): Conv2d(64, 128, kernel_size=(1, 1), stride=(2, 2), bias=False)\n",
       "          (1): BatchNorm2d(128, eps=1e-05, momentum=0.1, affine=True, track_running_stats=True)\n",
       "        )\n",
       "      )\n",
       "      (1): BasicBlock(\n",
       "        (conv1): Conv2d(128, 128, kernel_size=(3, 3), stride=(1, 1), padding=(1, 1), bias=False)\n",
       "        (bn1): BatchNorm2d(128, eps=1e-05, momentum=0.1, affine=True, track_running_stats=True)\n",
       "        (relu): ReLU(inplace)\n",
       "        (conv2): Conv2d(128, 128, kernel_size=(3, 3), stride=(1, 1), padding=(1, 1), bias=False)\n",
       "        (bn2): BatchNorm2d(128, eps=1e-05, momentum=0.1, affine=True, track_running_stats=True)\n",
       "      )\n",
       "    )\n",
       "    (layer3): Sequential(\n",
       "      (0): BasicBlock(\n",
       "        (conv1): Conv2d(128, 256, kernel_size=(3, 3), stride=(2, 2), padding=(1, 1), bias=False)\n",
       "        (bn1): BatchNorm2d(256, eps=1e-05, momentum=0.1, affine=True, track_running_stats=True)\n",
       "        (relu): ReLU(inplace)\n",
       "        (conv2): Conv2d(256, 256, kernel_size=(3, 3), stride=(1, 1), padding=(1, 1), bias=False)\n",
       "        (bn2): BatchNorm2d(256, eps=1e-05, momentum=0.1, affine=True, track_running_stats=True)\n",
       "        (downsample): Sequential(\n",
       "          (0): Conv2d(128, 256, kernel_size=(1, 1), stride=(2, 2), bias=False)\n",
       "          (1): BatchNorm2d(256, eps=1e-05, momentum=0.1, affine=True, track_running_stats=True)\n",
       "        )\n",
       "      )\n",
       "      (1): BasicBlock(\n",
       "        (conv1): Conv2d(256, 256, kernel_size=(3, 3), stride=(1, 1), padding=(1, 1), bias=False)\n",
       "        (bn1): BatchNorm2d(256, eps=1e-05, momentum=0.1, affine=True, track_running_stats=True)\n",
       "        (relu): ReLU(inplace)\n",
       "        (conv2): Conv2d(256, 256, kernel_size=(3, 3), stride=(1, 1), padding=(1, 1), bias=False)\n",
       "        (bn2): BatchNorm2d(256, eps=1e-05, momentum=0.1, affine=True, track_running_stats=True)\n",
       "      )\n",
       "    )\n",
       "    (layer4): Sequential(\n",
       "      (0): BasicBlock(\n",
       "        (conv1): Conv2d(256, 512, kernel_size=(3, 3), stride=(2, 2), padding=(1, 1), bias=False)\n",
       "        (bn1): BatchNorm2d(512, eps=1e-05, momentum=0.1, affine=True, track_running_stats=True)\n",
       "        (relu): ReLU(inplace)\n",
       "        (conv2): Conv2d(512, 512, kernel_size=(3, 3), stride=(1, 1), padding=(1, 1), bias=False)\n",
       "        (bn2): BatchNorm2d(512, eps=1e-05, momentum=0.1, affine=True, track_running_stats=True)\n",
       "        (downsample): Sequential(\n",
       "          (0): Conv2d(256, 512, kernel_size=(1, 1), stride=(2, 2), bias=False)\n",
       "          (1): BatchNorm2d(512, eps=1e-05, momentum=0.1, affine=True, track_running_stats=True)\n",
       "        )\n",
       "      )\n",
       "      (1): BasicBlock(\n",
       "        (conv1): Conv2d(512, 512, kernel_size=(3, 3), stride=(1, 1), padding=(1, 1), bias=False)\n",
       "        (bn1): BatchNorm2d(512, eps=1e-05, momentum=0.1, affine=True, track_running_stats=True)\n",
       "        (relu): ReLU(inplace)\n",
       "        (conv2): Conv2d(512, 512, kernel_size=(3, 3), stride=(1, 1), padding=(1, 1), bias=False)\n",
       "        (bn2): BatchNorm2d(512, eps=1e-05, momentum=0.1, affine=True, track_running_stats=True)\n",
       "      )\n",
       "    )\n",
       "    (avgpool): AvgPool2d(kernel_size=7, stride=1, padding=0)\n",
       "    (fc): Linear(in_features=512, out_features=1, bias=True)\n",
       "  )\n",
       ")"
      ]
     },
     "execution_count": 99,
     "metadata": {},
     "output_type": "execute_result"
    }
   ],
   "source": [
    "model_ft = models.resnet18(pretrained=True)\n",
    "num_ftrs = model_ft.fc.in_features\n",
    "model_ft.fc = nn.Linear(num_ftrs, 1)\n",
    "\n",
    "siamese_model = SiameseNet(model_ft)\n",
    "siamese_model"
   ]
  },
  {
   "cell_type": "code",
   "execution_count": null,
   "metadata": {},
   "outputs": [],
   "source": [
    "img1, img2, targets = next(iter(trainloader))\n",
    "output1, output2 = siamese_model(img1, img2)"
   ]
  },
  {
   "cell_type": "code",
   "execution_count": null,
   "metadata": {},
   "outputs": [],
   "source": []
  }
 ],
 "metadata": {
  "kernelspec": {
   "display_name": "Python 3",
   "language": "python",
   "name": "python3"
  },
  "language_info": {
   "codemirror_mode": {
    "name": "ipython",
    "version": 3
   },
   "file_extension": ".py",
   "mimetype": "text/x-python",
   "name": "python",
   "nbconvert_exporter": "python",
   "pygments_lexer": "ipython3",
   "version": "3.6.5"
  }
 },
 "nbformat": 4,
 "nbformat_minor": 2
}
