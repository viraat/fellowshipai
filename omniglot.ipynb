{
 "cells": [
  {
   "cell_type": "markdown",
   "metadata": {
    "colab_type": "text",
    "id": "G49qP8ccl6j0"
   },
   "source": [
    "# Fellowship AI challenge"
   ]
  },
  {
   "cell_type": "markdown",
   "metadata": {
    "colab_type": "text",
    "id": "J85i_KhXl6j5"
   },
   "source": [
    "## Challenge goals\n",
    "1. Problem solving ability - did you understand the problem correctly, and did you take logical steps to solve it?  \n",
    "2. Machine learning skills - what sort of models did you use? How rigorous was your exploratory analysis of the data, your choice and fine tuning of models, and your assessment of results.  \n",
    "3. Communication skills - is your solution readable and well explained? Messiness and raw code with no explanation does not reflect well on your potential for working well with our business partners during the fellowship."
   ]
  },
  {
   "cell_type": "markdown",
   "metadata": {
    "colab_type": "text",
    "id": "TmHhvPwwl6kJ"
   },
   "source": [
    "## Mistakes to avoid\n",
    "\n",
    "- Skipping exploratory analysis and feature engineering  \n",
    "Do not jump straight into fitting models without demonstrating to us, in your Jupyter notebook, that you have understood and thought about the dataset.\n",
    "\n",
    "- Choosing models with no explanation  \n",
    "Please use the notebook to explain your thought process. We care about this as much as we care about your results.\n",
    "\n",
    "- Unreadable notebooks  \n",
    "Make sure to run your notebook before sharing so that we can see the results. We won't be running your code on our machines. On the flip side, please do not print out the entire dataset or endless rounds of epochs.\n",
    "\n",
    "- Overly simplistic final results  \n",
    "Your final results should consist of more than a single number or percentage printout. Explain why you chose the success metrics you chose, and analyze what your output means."
   ]
  },
  {
   "cell_type": "markdown",
   "metadata": {
    "colab_type": "text",
    "id": "fX-NtLhul6kS"
   },
   "source": [
    "## Questions to Consider\n",
    "Ask yourself why would they have selected this problem for the challenge? What are some gotchas in this domain I should know about?  \n",
    "What is the highest level of accuracy that others have achieved with this dataset or similar problems / datasets ?  \n",
    "What types of visualizations will help me grasp the nature of the problem / data?  \n",
    "What feature engineering might help improve the signal?  \n",
    "Which modeling techniques are good at capturing the types of relationships I see in this data?  \n",
    "Now that I have a model, how can I be sure that I didn't introduce a bug in the code? If results are too good to be true, they probably are!  \n",
    "What are some of the weaknesses of the model and and how can the model be improved with additional work?"
   ]
  },
  {
   "cell_type": "markdown",
   "metadata": {
    "colab_type": "text",
    "id": "ynAHkf2pl6kb"
   },
   "source": [
    "## Understand OmniGlot"
   ]
  },
  {
   "cell_type": "markdown",
   "metadata": {
    "colab_type": "text",
    "id": "bmGIRqtWl6ks"
   },
   "source": [
    "Resources \n",
    "Omniglot paper - http://science.sciencemag.org/content/sci/350/6266/1332.full.pdf  \n",
    "Keras - https://sorenbouma.github.io/blog/oneshot/  \n",
    "CS231n - http://cs231n.stanford.edu/reports/2017/pdfs/131.pdf  \n",
    "Siamese nets paper - http://www.cs.cmu.edu/~rsalakhu/papers/oneshot1.pdf  "
   ]
  },
  {
   "cell_type": "markdown",
   "metadata": {
    "colab_type": "text",
    "id": "xH_1jVJ5l6kx"
   },
   "source": [
    "## Exploring the dataset"
   ]
  },
  {
   "cell_type": "code",
   "execution_count": 1,
   "metadata": {
    "colab": {},
    "colab_type": "code",
    "id": "EcdaHPvTl6k1"
   },
   "outputs": [],
   "source": [
    "%matplotlib inline\n",
    "%reload_ext autoreload\n",
    "%autoreload 2"
   ]
  },
  {
   "cell_type": "code",
   "execution_count": 2,
   "metadata": {
    "colab": {},
    "colab_type": "code",
    "id": "rzQyO6MXl6lB"
   },
   "outputs": [],
   "source": [
    "import numpy as np\n",
    "import matplotlib.pyplot as plt\n",
    "import os, sys"
   ]
  },
  {
   "cell_type": "code",
   "execution_count": 3,
   "metadata": {
    "colab": {},
    "colab_type": "code",
    "id": "PKzZO4aFl6lJ"
   },
   "outputs": [],
   "source": [
    "import torch\n",
    "import torch.nn as nn"
   ]
  },
  {
   "cell_type": "code",
   "execution_count": 4,
   "metadata": {
    "colab": {},
    "colab_type": "code",
    "id": "Kel4S_AXl6lQ"
   },
   "outputs": [],
   "source": [
    "import torchvision.datasets as datasets\n",
    "import torchvision.transforms as transforms"
   ]
  },
  {
   "cell_type": "code",
   "execution_count": 5,
   "metadata": {
    "colab": {},
    "colab_type": "code",
    "id": "b4V5B2Gpl6lX",
    "outputId": "b970ff6d-7b58-4118-8a84-64e5c5873734"
   },
   "outputs": [
    {
     "name": "stdout",
     "output_type": "stream",
     "text": [
      "Files already downloaded and verified\n"
     ]
    }
   ],
   "source": [
    "omniglot_trainset = datasets.Omniglot(root='./omniglot_data/', download=True, background=True, transform=None)"
   ]
  },
  {
   "cell_type": "code",
   "execution_count": 6,
   "metadata": {
    "colab": {},
    "colab_type": "code",
    "id": "X1wM7TdHl6ln",
    "outputId": "1b5e23fd-c509-489b-9606-1afb17867452"
   },
   "outputs": [
    {
     "name": "stdout",
     "output_type": "stream",
     "text": [
      "Files already downloaded and verified\n"
     ]
    }
   ],
   "source": [
    "omniglot_evalset = datasets.Omniglot(root='./omniglot_data/', download=True, background=False, transform=None)"
   ]
  },
  {
   "cell_type": "markdown",
   "metadata": {
    "colab_type": "text",
    "id": "sPyEPjrMl6lv"
   },
   "source": [
    "### basic stats about the dataset"
   ]
  },
  {
   "cell_type": "code",
   "execution_count": 7,
   "metadata": {
    "colab": {},
    "colab_type": "code",
    "id": "ZhEctFd3l6lz",
    "outputId": "45f46c89-e361-47f8-f5ae-064029034ecc"
   },
   "outputs": [
    {
     "data": {
      "text/plain": [
       "(19280, 13180)"
      ]
     },
     "execution_count": 7,
     "metadata": {},
     "output_type": "execute_result"
    }
   ],
   "source": [
    "len(omniglot_trainset), len(omniglot_evalset)"
   ]
  },
  {
   "cell_type": "code",
   "execution_count": 8,
   "metadata": {
    "colab": {},
    "colab_type": "code",
    "id": "PG5LC0Zxl6l5",
    "outputId": "d9189d3d-d70b-4763-b0e3-f4e4d9d4f4c0"
   },
   "outputs": [
    {
     "data": {
      "text/plain": [
       "(30, 964)"
      ]
     },
     "execution_count": 8,
     "metadata": {},
     "output_type": "execute_result"
    }
   ],
   "source": [
    "len(omniglot_trainset._alphabets), len(omniglot_trainset._characters)"
   ]
  },
  {
   "cell_type": "code",
   "execution_count": 9,
   "metadata": {
    "colab": {},
    "colab_type": "code",
    "id": "xfVWBtlal6l-",
    "outputId": "461442d5-0806-465b-f2c4-2c28d8527e6f"
   },
   "outputs": [
    {
     "data": {
      "text/plain": [
       "['Malay_(Jawi_-_Arabic)',\n",
       " 'Korean',\n",
       " 'Burmese_(Myanmar)',\n",
       " 'Tifinagh',\n",
       " 'Latin',\n",
       " 'Futurama',\n",
       " 'Greek',\n",
       " 'Gujarati',\n",
       " 'Sanskrit',\n",
       " 'Japanese_(katakana)',\n",
       " 'Hebrew',\n",
       " 'Bengali',\n",
       " 'Balinese',\n",
       " 'Tagalog',\n",
       " 'Arcadian',\n",
       " 'Anglo-Saxon_Futhorc',\n",
       " 'Mkhedruli_(Georgian)',\n",
       " 'Early_Aramaic',\n",
       " 'Syriac_(Estrangelo)',\n",
       " 'Braille',\n",
       " 'N_Ko',\n",
       " 'Cyrillic',\n",
       " 'Ojibwe_(Canadian_Aboriginal_Syllabics)',\n",
       " 'Inuktitut_(Canadian_Aboriginal_Syllabics)',\n",
       " 'Armenian',\n",
       " 'Alphabet_of_the_Magi',\n",
       " 'Japanese_(hiragana)',\n",
       " 'Asomtavruli_(Georgian)',\n",
       " 'Grantha',\n",
       " 'Blackfoot_(Canadian_Aboriginal_Syllabics)']"
      ]
     },
     "execution_count": 9,
     "metadata": {},
     "output_type": "execute_result"
    }
   ],
   "source": [
    "omniglot_trainset._alphabets"
   ]
  },
  {
   "cell_type": "code",
   "execution_count": 10,
   "metadata": {
    "colab": {},
    "colab_type": "code",
    "id": "wSCnpdmLl6mL",
    "outputId": "bfe837f0-51f0-4892-c9ee-2bbd4220a6ec"
   },
   "outputs": [
    {
     "data": {
      "image/png": "[encoded data removed]",
      "text/plain": [
       "<Figure size 432x288 with 1 Axes>"
      ]
     },
     "metadata": {},
     "output_type": "display_data"
    }
   ],
   "source": [
    "per_language_count = dict()\n",
    "for a in omniglot_trainset._alphabets:\n",
    "    per_language_count['{}'.format(a)] = len(os.listdir(os.path.join(omniglot_trainset.target_folder, a)))\n",
    "plt.bar(range(len(per_language_count)), list(per_language_count.values()))\n",
    "# plt.xticks(range(len(per_language_count)), list(per_language_count.keys()))\n",
    "plt.show()"
   ]
  },
  {
   "cell_type": "code",
   "execution_count": 11,
   "metadata": {
    "colab": {},
    "colab_type": "code",
    "id": "6uysM2-bl6mP",
    "outputId": "23cd2c51-a54e-483f-f857-90c40c32d7b3"
   },
   "outputs": [
    {
     "data": {
      "text/plain": [
       "(20, 659)"
      ]
     },
     "execution_count": 11,
     "metadata": {},
     "output_type": "execute_result"
    }
   ],
   "source": [
    "len(omniglot_evalset._alphabets), len(omniglot_evalset._characters)"
   ]
  },
  {
   "cell_type": "code",
   "execution_count": 12,
   "metadata": {
    "colab": {},
    "colab_type": "code",
    "id": "Wej2Xcmal6mT",
    "outputId": "ec6bb24b-59ee-45be-e609-9cb127f18428"
   },
   "outputs": [
    {
     "data": {
      "text/plain": [
       "['Syriac_(Serto)',\n",
       " 'Gurmukhi',\n",
       " 'Keble',\n",
       " 'Ge_ez',\n",
       " 'Avesta',\n",
       " 'Manipuri',\n",
       " 'ULOG',\n",
       " 'Kannada',\n",
       " 'Glagolitic',\n",
       " 'Malayalam',\n",
       " 'Tibetan',\n",
       " 'Sylheti',\n",
       " 'Atlantean',\n",
       " 'Tengwar',\n",
       " 'Oriya',\n",
       " 'Aurek-Besh',\n",
       " 'Mongolian',\n",
       " 'Old_Church_Slavonic_(Cyrillic)',\n",
       " 'Angelic',\n",
       " 'Atemayar_Qelisayer']"
      ]
     },
     "execution_count": 12,
     "metadata": {},
     "output_type": "execute_result"
    }
   ],
   "source": [
    "omniglot_evalset._alphabets"
   ]
  },
  {
   "cell_type": "code",
   "execution_count": 13,
   "metadata": {
    "colab": {},
    "colab_type": "code",
    "id": "mrXRoEEIl6mY",
    "outputId": "6bc5c383-c9a3-483d-db64-790898c4ef4d"
   },
   "outputs": [
    {
     "data": {
      "image/png": "[encoded data removed]",
      "text/plain": [
       "<Figure size 432x288 with 1 Axes>"
      ]
     },
     "metadata": {},
     "output_type": "display_data"
    }
   ],
   "source": [
    "eval_per_lang_count = dict()\n",
    "for a in omniglot_evalset._alphabets:\n",
    "    eval_per_lang_count['{}'.format(a)] = len(os.listdir(os.path.join(omniglot_evalset.target_folder, a)))\n",
    "plt.bar(range(len(eval_per_lang_count)), list(eval_per_lang_count.values()))\n",
    "# plt.xticks(range(len(eval_per_lang_count)), list(eval_per_lang_count.keys()))\n",
    "plt.show()"
   ]
  },
  {
   "cell_type": "code",
   "execution_count": 14,
   "metadata": {
    "colab": {},
    "colab_type": "code",
    "id": "3NMjwi8ql6mg",
    "outputId": "7d6c5ecf-f6b5-4843-d23b-f3ad9e76743f"
   },
   "outputs": [
    {
     "name": "stdout",
     "output_type": "stream",
     "text": [
      "class: Mkhedruli_(Georgian)/character04, img shape: (105, 105)\n"
     ]
    },
    {
     "data": {
      "image/png": "[encoded data removed]",
      "text/plain": [
       "<Figure size 432x288 with 1 Axes>"
      ]
     },
     "metadata": {},
     "output_type": "display_data"
    }
   ],
   "source": [
    "ind = np.random.randint(len(omniglot_trainset))\n",
    "img, target = omniglot_trainset[ind]\n",
    "class_name = omniglot_trainset._characters[target]\n",
    "plt.imshow(np.asarray(img), cmap='gray')\n",
    "print('class: {}, img shape: {}'.format(class_name, img.size))"
   ]
  },
  {
   "cell_type": "code",
   "execution_count": 15,
   "metadata": {
    "colab": {},
    "colab_type": "code",
    "id": "btbx3x_Vl6mn",
    "outputId": "194e2b25-e36e-480e-d570-1ed3da11cf6c"
   },
   "outputs": [
    {
     "name": "stdout",
     "output_type": "stream",
     "text": [
      "class: Oriya/character03, img shape: (105, 105)\n"
     ]
    },
    {
     "data": {
      "image/png": "[encoded data removed]",
      "text/plain": [
       "<Figure size 432x288 with 1 Axes>"
      ]
     },
     "metadata": {},
     "output_type": "display_data"
    }
   ],
   "source": [
    "ind = np.random.randint(len(omniglot_evalset))\n",
    "img, target = omniglot_evalset[ind]\n",
    "class_name = omniglot_evalset._characters[target]\n",
    "plt.imshow(np.asarray(img), cmap='gray')\n",
    "print('class: {}, img shape: {}'.format(class_name, img.size))"
   ]
  },
  {
   "cell_type": "markdown",
   "metadata": {
    "colab_type": "text",
    "id": "hyh8I5qPl6ms"
   },
   "source": [
    "# 1 - nearest neighbour from raw pixel values on the training set"
   ]
  },
  {
   "cell_type": "code",
   "execution_count": null,
   "metadata": {
    "colab": {},
    "colab_type": "code",
    "id": "lx2UH4VFl6mt"
   },
   "outputs": [],
   "source": [
    "from sklearn.neighbors import KNeighborsClassifier\n",
    "from sklearn.model_selection import train_test_split\n",
    "\n",
    "import cv2"
   ]
  },
  {
   "cell_type": "code",
   "execution_count": null,
   "metadata": {
    "colab": {},
    "colab_type": "code",
    "id": "T3ZS7zKZl6mw"
   },
   "outputs": [],
   "source": [
    "def flatten_image(img, size=(32, 32)):\n",
    "    flat = cv2.resize(img, size).flatten()\n",
    "    return cv2.normalize(flat, flat, norm_type=cv2.NORM_MINMAX)"
   ]
  },
  {
   "cell_type": "code",
   "execution_count": null,
   "metadata": {
    "colab": {},
    "colab_type": "code",
    "id": "9sC6Vimpl6mz",
    "outputId": "b76094b5-a7cd-42b4-c7d7-6625e8d400e0"
   },
   "outputs": [
    {
     "data": {
      "text/plain": [
       "array([1, 1, 1, ..., 1, 1, 1], dtype=uint8)"
      ]
     },
     "execution_count": 18,
     "metadata": {
      "tags": []
     },
     "output_type": "execute_result"
    }
   ],
   "source": [
    "flatten_image(np.asarray(img))"
   ]
  },
  {
   "cell_type": "code",
   "execution_count": null,
   "metadata": {
    "colab": {},
    "colab_type": "code",
    "id": "2WTPUfVUl6m6",
    "outputId": "6cf4b4fa-d007-469c-c253-5db4bafcc6fd"
   },
   "outputs": [
    {
     "name": "stdout",
     "output_type": "stream",
     "text": [
      "[INFO] processed 1000/19280\n",
      "[INFO] processed 2000/19280\n",
      "[INFO] processed 3000/19280\n",
      "[INFO] processed 4000/19280\n",
      "[INFO] processed 5000/19280\n",
      "[INFO] processed 6000/19280\n",
      "[INFO] processed 7000/19280\n",
      "[INFO] processed 8000/19280\n",
      "[INFO] processed 9000/19280\n",
      "[INFO] processed 10000/19280\n",
      "[INFO] processed 11000/19280\n",
      "[INFO] processed 12000/19280\n",
      "[INFO] processed 13000/19280\n",
      "[INFO] processed 14000/19280\n",
      "[INFO] processed 15000/19280\n",
      "[INFO] processed 16000/19280\n",
      "[INFO] processed 17000/19280\n",
      "[INFO] processed 18000/19280\n",
      "[INFO] processed 19000/19280\n"
     ]
    }
   ],
   "source": [
    "rawImages = []\n",
    "labels = []\n",
    "for ind, (img, label) in enumerate(omniglot_trainset):\n",
    "    pixels = flatten_image(np.asarray(img))\n",
    "    \n",
    "    rawImages.append(pixels)\n",
    "    labels.append(label)\n",
    "    \n",
    "    if ind > 0 and ind % 1000 == 0:\n",
    "        print(\"[INFO] processed {}/{}\".format(ind, len(omniglot_trainset)))"
   ]
  },
  {
   "cell_type": "code",
   "execution_count": null,
   "metadata": {
    "colab": {},
    "colab_type": "code",
    "id": "b8XoWXjFl6m_",
    "outputId": "4a286a9a-e15f-4072-d66e-59f2d5dd7e6b"
   },
   "outputs": [
    {
     "name": "stdout",
     "output_type": "stream",
     "text": [
      "[INFO] pixels matrix: 19.28MB\n"
     ]
    }
   ],
   "source": [
    "rawImages = np.array(rawImages)\n",
    "labels = np.array(labels)\n",
    "print(\"[INFO] pixels matrix: {:.2f}MB\".format(rawImages.nbytes / (1024 * 1000.0)))"
   ]
  },
  {
   "cell_type": "code",
   "execution_count": null,
   "metadata": {
    "colab": {},
    "colab_type": "code",
    "id": "kUoTm7Ptl6nW"
   },
   "outputs": [],
   "source": [
    "(trainRI, testRI, trainRL, testRL) = train_test_split(rawImages, labels, test_size=0.25, random_state=1791387)"
   ]
  },
  {
   "cell_type": "code",
   "execution_count": null,
   "metadata": {
    "colab": {},
    "colab_type": "code",
    "id": "IyJRy_Tgl6nY",
    "outputId": "8a26e116-48ff-45cc-8814-a2deedac7712"
   },
   "outputs": [
    {
     "name": "stdout",
     "output_type": "stream",
     "text": [
      "[INFO] evaluating raw pixel accuracy...\n",
      "[INFO] raw pixel accuracy: 11.04%\n"
     ]
    }
   ],
   "source": [
    "print(\"[INFO] evaluating raw pixel accuracy...\")\n",
    "model = KNeighborsClassifier(n_neighbors=1)\n",
    "model.fit(trainRI, trainRL)\n",
    "acc = model.score(testRI, testRL)\n",
    "print(\"[INFO] raw pixel accuracy: {:.2f}%\".format(acc * 100))"
   ]
  },
  {
   "cell_type": "markdown",
   "metadata": {
    "colab_type": "text",
    "id": "ARoPPqKcl6nc"
   },
   "source": [
    "## Demo classification run from lake"
   ]
  },
  {
   "cell_type": "code",
   "execution_count": null,
   "metadata": {
    "colab": {},
    "colab_type": "code",
    "id": "u0yJCTpGl6nf",
    "outputId": "3ef33841-77ed-4ca2-beb8-df2575c473a2"
   },
   "outputs": [
    {
     "name": "stdout",
     "output_type": "stream",
     "text": [
      "One-shot classification demo with Modified Hausdorff Distance\n",
      " run 1 (error 45.0%)\n",
      " run 2 (error 35.0%)\n",
      " run 3 (error 40.0%)\n",
      " run 4 (error 25.0%)\n",
      " run 5 (error 30.0%)\n",
      " run 6 (error 15.0%)\n",
      " run 7 (error 60.0%)\n",
      " run 8 (error 35.0%)\n",
      " run 9 (error 40.0%)\n",
      " run 10 (error 55.0%)\n",
      " run 11 (error 15.0%)\n",
      " run 12 (error 70.0%)\n",
      " run 13 (error 65.0%)\n",
      " run 14 (error 35.0%)\n",
      " run 15 (error 15.0%)\n",
      " run 16 (error 25.0%)\n",
      " run 17 (error 30.0%)\n",
      " run 18 (error 40.0%)\n",
      " run 19 (error 70.0%)\n",
      " run 20 (error 30.0%)\n",
      " average error 38.75%\n"
     ]
    }
   ],
   "source": [
    "# !cd one-shot-classification/all_runs/\n",
    "!python one-shot-classification/all_runs/demo_classification.py"
   ]
  },
  {
   "cell_type": "markdown",
   "metadata": {
    "colab_type": "text",
    "id": "4TO3cYOLl6nl"
   },
   "source": [
    "## Siamese networks"
   ]
  },
  {
   "cell_type": "code",
   "execution_count": 5,
   "metadata": {
    "colab": {},
    "colab_type": "code",
    "id": "94_wXkcJl6nn"
   },
   "outputs": [],
   "source": [
    "from dataloader import SiameseTestData, SiameseTrainData\n",
    "from networks import SiameseNet\n",
    "from losses import ContrastiveLoss\n",
    "import torchvision.models as models\n",
    "import torch.optim.lr_scheduler as lr_scheduler\n",
    "from utils import AverageMeter\n",
    "import time"
   ]
  },
  {
   "cell_type": "code",
   "execution_count": 6,
   "metadata": {
    "colab": {},
    "colab_type": "code",
    "id": "hnJ_CunVl6np"
   },
   "outputs": [
    {
     "ename": "NameError",
     "evalue": "name 'omniglot_trainset' is not defined",
     "output_type": "error",
     "traceback": [
      "\u001b[0;31m---------------------------------------------------------------------------\u001b[0m",
      "\u001b[0;31mNameError\u001b[0m                                 Traceback (most recent call last)",
      "\u001b[0;32m<ipython-input-6-3189bc2ec880>\u001b[0m in \u001b[0;36m<module>\u001b[0;34m()\u001b[0m\n\u001b[0;32m----> 1\u001b[0;31m \u001b[0mtrainset\u001b[0m \u001b[0;34m=\u001b[0m \u001b[0mSiameseTrainData\u001b[0m\u001b[0;34m(\u001b[0m\u001b[0momniglot_trainset\u001b[0m\u001b[0;34m)\u001b[0m\u001b[0;34m\u001b[0m\u001b[0m\n\u001b[0m",
      "\u001b[0;31mNameError\u001b[0m: name 'omniglot_trainset' is not defined"
     ]
    }
   ],
   "source": [
    "trainset = SiameseTrainData(omniglot_trainset)"
   ]
  },
  {
   "cell_type": "code",
   "execution_count": 7,
   "metadata": {
    "colab": {},
    "colab_type": "code",
    "id": "Mf8dGkfJl6nr",
    "outputId": "ac234000-9e75-44a7-acda-a3d61d3a6754"
   },
   "outputs": [
    {
     "ename": "NameError",
     "evalue": "name 'trainset' is not defined",
     "output_type": "error",
     "traceback": [
      "\u001b[0;31m---------------------------------------------------------------------------\u001b[0m",
      "\u001b[0;31mNameError\u001b[0m                                 Traceback (most recent call last)",
      "\u001b[0;32m<ipython-input-7-e2860582979e>\u001b[0m in \u001b[0;36m<module>\u001b[0;34m()\u001b[0m\n\u001b[0;32m----> 1\u001b[0;31m \u001b[0mimg1\u001b[0m\u001b[0;34m,\u001b[0m \u001b[0mimg2\u001b[0m\u001b[0;34m,\u001b[0m \u001b[0mtarget\u001b[0m \u001b[0;34m=\u001b[0m \u001b[0mnext\u001b[0m\u001b[0;34m(\u001b[0m\u001b[0miter\u001b[0m\u001b[0;34m(\u001b[0m\u001b[0mtrainset\u001b[0m\u001b[0;34m)\u001b[0m\u001b[0;34m)\u001b[0m\u001b[0;34m\u001b[0m\u001b[0m\n\u001b[0m\u001b[1;32m      2\u001b[0m \u001b[0mplt\u001b[0m\u001b[0;34m.\u001b[0m\u001b[0msubplot\u001b[0m\u001b[0;34m(\u001b[0m\u001b[0;36m121\u001b[0m\u001b[0;34m)\u001b[0m\u001b[0;34m\u001b[0m\u001b[0m\n\u001b[1;32m      3\u001b[0m \u001b[0mplt\u001b[0m\u001b[0;34m.\u001b[0m\u001b[0mimshow\u001b[0m\u001b[0;34m(\u001b[0m\u001b[0mnp\u001b[0m\u001b[0;34m.\u001b[0m\u001b[0masarray\u001b[0m\u001b[0;34m(\u001b[0m\u001b[0mimg2\u001b[0m\u001b[0;34m)\u001b[0m\u001b[0;34m,\u001b[0m \u001b[0mcmap\u001b[0m\u001b[0;34m=\u001b[0m\u001b[0;34m'gray'\u001b[0m\u001b[0;34m)\u001b[0m\u001b[0;34m\u001b[0m\u001b[0m\n\u001b[1;32m      4\u001b[0m \u001b[0mplt\u001b[0m\u001b[0;34m.\u001b[0m\u001b[0msubplot\u001b[0m\u001b[0;34m(\u001b[0m\u001b[0;36m122\u001b[0m\u001b[0;34m)\u001b[0m\u001b[0;34m\u001b[0m\u001b[0m\n\u001b[1;32m      5\u001b[0m \u001b[0mplt\u001b[0m\u001b[0;34m.\u001b[0m\u001b[0mimshow\u001b[0m\u001b[0;34m(\u001b[0m\u001b[0mnp\u001b[0m\u001b[0;34m.\u001b[0m\u001b[0masarray\u001b[0m\u001b[0;34m(\u001b[0m\u001b[0mimg1\u001b[0m\u001b[0;34m)\u001b[0m\u001b[0;34m,\u001b[0m \u001b[0mcmap\u001b[0m\u001b[0;34m=\u001b[0m\u001b[0;34m'gray'\u001b[0m\u001b[0;34m)\u001b[0m\u001b[0;34m\u001b[0m\u001b[0m\n",
      "\u001b[0;31mNameError\u001b[0m: name 'trainset' is not defined"
     ]
    }
   ],
   "source": [
    "img1, img2, target = next(iter(trainset))\n",
    "plt.subplot(121)\n",
    "plt.imshow(np.asarray(img2), cmap='gray')\n",
    "plt.subplot(122)\n",
    "plt.imshow(np.asarray(img1), cmap='gray')\n",
    "print(target)"
   ]
  },
  {
   "cell_type": "code",
   "execution_count": 19,
   "metadata": {
    "colab": {},
    "colab_type": "code",
    "id": "Hnq3tub_l6n1"
   },
   "outputs": [],
   "source": [
    "testset = SiameseTestData(omniglot_evalset)"
   ]
  },
  {
   "cell_type": "code",
   "execution_count": 20,
   "metadata": {
    "colab": {},
    "colab_type": "code",
    "id": "ws10I6M4l6n3"
   },
   "outputs": [
    {
     "data": {
      "text/plain": [
       "<matplotlib.image.AxesImage at 0x7f61c024bcf8>"
      ]
     },
     "execution_count": 20,
     "metadata": {},
     "output_type": "execute_result"
    },
    {
     "data": {
      "image/png": "[encoded data removed]",
      "text/plain": [
       "<Figure size 432x288 with 2 Axes>"
      ]
     },
     "metadata": {},
     "output_type": "display_data"
    }
   ],
   "source": [
    "i = 0\n",
    "for img1, img2 in testset:\n",
    "    i+=1\n",
    "    if i == 5:\n",
    "        break\n",
    "plt.subplot(121)\n",
    "plt.imshow(np.asarray(img2), cmap='gray')\n",
    "plt.subplot(122)\n",
    "plt.imshow(np.asarray(img1), cmap='gray')"
   ]
  },
  {
   "cell_type": "code",
   "execution_count": 8,
   "metadata": {
    "colab": {},
    "colab_type": "code",
    "id": "uX05OgMLl6n5"
   },
   "outputs": [],
   "source": [
    "input_size = 105\n",
    "learning_rate = 1e3\n",
    "epochs = 200"
   ]
  },
  {
   "cell_type": "code",
   "execution_count": 9,
   "metadata": {
    "colab": {},
    "colab_type": "code",
    "id": "JSinghKil6n7"
   },
   "outputs": [],
   "source": [
    "\n",
    "data_transforms = {\n",
    "        'train': transforms.Compose([\n",
    "            transforms.Resize((input_size, input_size)),\n",
    "            transforms.RandomHorizontalFlip(),\n",
    "            transforms.ToTensor(),\n",
    "            transforms.Normalize((0.5, 0.5, 0.5), (0.5, 0.5, 0.5))\n",
    "        ]),\n",
    "        'val': transforms.Compose([\n",
    "            transforms.Resize((input_size, input_size)),\n",
    "            transforms.ToTensor(),\n",
    "            transforms.Normalize((0.5, 0.5, 0.5), (0.5, 0.5, 0.5))])\n",
    "    }"
   ]
  },
  {
   "cell_type": "code",
   "execution_count": 10,
   "metadata": {
    "colab": {},
    "colab_type": "code",
    "id": "8A1s3B0rl6n-"
   },
   "outputs": [],
   "source": [
    "from torch.utils.data.sampler import SubsetRandomSampler"
   ]
  },
  {
   "cell_type": "code",
   "execution_count": 11,
   "metadata": {
    "colab": {},
    "colab_type": "code",
    "id": "WPOnZFyVl6oA",
    "outputId": "e3567e7d-9181-4c21-e3ac-771e8ad406df"
   },
   "outputs": [
    {
     "name": "stdout",
     "output_type": "stream",
     "text": [
      "Files already downloaded and verified\n",
      "Files already downloaded and verified\n",
      "Files already downloaded and verified\n"
     ]
    }
   ],
   "source": [
    "omniglot_trainset = datasets.Omniglot(root='./omniglot_data/', download=True, background=True, transform=data_transforms['train'])\n",
    "omniglot_valset = datasets.Omniglot(root='./omniglot_data/', download=True, background=True, transform=data_transforms['val'])\n",
    "omniglot_evalset = datasets.Omniglot(root='./omniglot_data/', download=True, background=False, transform=data_transforms['val'])"
   ]
  },
  {
   "cell_type": "code",
   "execution_count": 12,
   "metadata": {
    "colab": {},
    "colab_type": "code",
    "id": "waGVjQhvl6og"
   },
   "outputs": [],
   "source": [
    "indices = list(range(len(omniglot_trainset)))\n",
    "split = int(0.15 * len(omniglot_trainset))\n",
    "train_indices = indices[:split]\n",
    "val_indices = indices[split:]\n",
    "train_sampler = SubsetRandomSampler(train_indices)\n",
    "val_sampler = SubsetRandomSampler(val_indices)\n",
    "\n",
    "trainset = SiameseTrainData(omniglot_trainset)\n",
    "valset = SiameseTestData(omniglot_valset)\n",
    "testset = SiameseTestData(omniglot_evalset)"
   ]
  },
  {
   "cell_type": "code",
   "execution_count": 13,
   "metadata": {
    "colab": {},
    "colab_type": "code",
    "id": "tE0ksk1wl6oi"
   },
   "outputs": [],
   "source": [
    "trainloader = torch.utils.data.DataLoader(trainset, batch_size=32, sampler=train_sampler, num_workers=4, pin_memory=True)\n",
    "valloader = torch.utils.data.DataLoader(valset, batch_size=32, sampler=val_sampler, num_workers=4, pin_memory=True)"
   ]
  },
  {
   "cell_type": "code",
   "execution_count": 14,
   "metadata": {
    "colab": {},
    "colab_type": "code",
    "id": "il8U7eJ9l6ok"
   },
   "outputs": [
    {
     "data": {
      "text/plain": [
       "device(type='cuda')"
      ]
     },
     "execution_count": 14,
     "metadata": {},
     "output_type": "execute_result"
    }
   ],
   "source": [
    "if torch.cuda.is_available():\n",
    "    device = torch.device(\"cuda\")\n",
    "    cuda = True\n",
    "else:\n",
    "    device = torch.device(\"cpu\")\n",
    "device"
   ]
  },
  {
   "cell_type": "code",
   "execution_count": 15,
   "metadata": {
    "colab": {},
    "colab_type": "code",
    "id": "g6WGnzHbl6ol"
   },
   "outputs": [],
   "source": [
    "class KochNet(nn.Module):\n",
    "\n",
    "    def __init__(self):\n",
    "        super(KochNet, self).__init__()\n",
    "        self.features = nn.Sequential(\n",
    "            # 1x105x105\n",
    "            nn.Conv2d(1, 64, kernel_size=10),\n",
    "            # 64x96x96\n",
    "            nn.ReLU(inplace=True), \n",
    "            nn.MaxPool2d(kernel_size=2),\n",
    "            # 64x48x48\n",
    "            nn.Conv2d(64, 128, kernel_size=7),\n",
    "            # 128x42x42\n",
    "            nn.ReLU(inplace=True),\n",
    "            nn.MaxPool2d(kernel_size=2),\n",
    "            # 128x21x21\n",
    "            nn.Conv2d(128, 128, kernel_size=4),\n",
    "            # 128x18x18\n",
    "            nn.ReLU(inplace=True),\n",
    "            nn.MaxPool2d(kernel_size=2),\n",
    "            # 128x9x9\n",
    "            nn.Conv2d(128, 256, kernel_size=4),\n",
    "            # 256x6x6\n",
    "            nn.ReLU(inplace=True),\n",
    "        )\n",
    "        self.fc = nn.Sequential(\n",
    "            nn.Dropout(),\n",
    "            nn.Linear(256 * 6 * 6, 4096),\n",
    "            nn.Sigmoid(),\n",
    "        )\n",
    "        self.output = nn.Linear(4096, 1)\n",
    "        \n",
    "\n",
    "    def forward(self, x1, x2):\n",
    "        x1 = self.features(x1)\n",
    "        x1 = x1.view(x1.size(0), 256 * 6 * 6)\n",
    "        x1 = self.fc(x1)\n",
    "        x2 = self.features(x2)\n",
    "        x2 = x2.view(x2.size(0), 256 * 6 * 6)\n",
    "        x2 = self.fc(x2)\n",
    "        dist = torch.abs(x1 - x2)\n",
    "        out = self.output(dist)\n",
    "        return out"
   ]
  },
  {
   "cell_type": "code",
   "execution_count": 16,
   "metadata": {
    "colab": {},
    "colab_type": "code",
    "id": "8s6fxM0Yl6on"
   },
   "outputs": [],
   "source": [
    "model = KochNet()\n",
    "optimizer = torch.optim.Adam(model.parameters(), lr=learning_rate)\n",
    "T_max = epochs\n",
    "eta_min = 0.01\n",
    "scheduler = lr_scheduler.CosineAnnealingLR(optimizer, T_max=T_max, eta_min=eta_min)\n",
    "criterion = nn.BCEWithLogitsLoss()\n",
    "if cuda:\n",
    "    model.to(device)"
   ]
  },
  {
   "cell_type": "code",
   "execution_count": 23,
   "metadata": {
    "colab": {},
    "colab_type": "code",
    "id": "qi95lrtFl6ov"
   },
   "outputs": [],
   "source": [
    "def train(train_loader, model, criterion, optimizer, epoch, device, debug=False, print_freq=200):\n",
    "    batch_time = AverageMeter()\n",
    "    data_time = AverageMeter()\n",
    "    losses = AverageMeter()\n",
    "\n",
    "    # switch to train mode\n",
    "    model.train()\n",
    "\n",
    "    end = time.time()\n",
    "    for batch_idx, (imgs1, imgs2, targets) in enumerate(train_loader):\n",
    "        data_time.update(time.time() - end)\n",
    "\n",
    "        imgs1 = imgs1.to(device).float()\n",
    "        imgs2 = imgs2.to(device).float()\n",
    "        targets = targets.to(device).float()\n",
    "\n",
    "        output = model(imgs1, imgs2)\n",
    "\n",
    "        loss = criterion(output, targets)\n",
    "\n",
    "        losses.update(loss.item(), imgs1.size(0))\n",
    "\n",
    "        optimizer.zero_grad()\n",
    "        loss.backward()\n",
    "        optimizer.step()\n",
    "\n",
    "        # measure elapsed time\n",
    "        batch_time.update(time.time() - end)\n",
    "        end = time.time()\n",
    "\n",
    "        if batch_idx % print_freq == 0:\n",
    "            print('Epoch: [{0}][{1}/{2}]\\t'\n",
    "                  'Time {batch_time.val:.3f} ({batch_time.avg:.3f})\\t'\n",
    "                  'Data {data_time.val:.3f} ({data_time.avg:.3f})\\t'\n",
    "                  'Loss {loss.val:.4f} ({loss.avg:.4f})'.format(\n",
    "                      epoch, batch_idx, len(train_loader), batch_time=batch_time,\n",
    "                      data_time=data_time, loss=losses))\n",
    "        if debug:\n",
    "            break\n",
    "\n",
    "    return losses.avg"
   ]
  },
  {
   "cell_type": "code",
   "execution_count": null,
   "metadata": {
    "colab": {},
    "colab_type": "code",
    "id": "d53koRxKl6oz"
   },
   "outputs": [
    {
     "name": "stdout",
     "output_type": "stream",
     "text": [
      "Epoch: [1][0/362]\tTime 17.495 (17.495)\tData 17.460 (17.460)\tLoss 13497.5879 (13497.5879)\n",
      "Epoch: [1][5/362]\tTime 0.121 (5.051)\tData 0.000 (4.975)\tLoss 76493.3125 (87841.6670)\n"
     ]
    }
   ],
   "source": [
    "train(trainloader, model, criterion, optimizer, 1, device, False, 1)"
   ]
  },
  {
   "cell_type": "code",
   "execution_count": 51,
   "metadata": {
    "colab": {},
    "colab_type": "code",
    "id": "D74HCw6vl6o0"
   },
   "outputs": [],
   "source": [
    "loader = torch.utils.data.DataLoader(trainset, batch_size=8, num_workers=4, pin_memory=True)"
   ]
  },
  {
   "cell_type": "code",
   "execution_count": 52,
   "metadata": {},
   "outputs": [
    {
     "name": "stdout",
     "output_type": "stream",
     "text": [
      "CPU times: user 19.7 ms, sys: 72.3 ms, total: 92 ms\n",
      "Wall time: 4.15 s\n"
     ]
    }
   ],
   "source": [
    "%time img1, img2, target = next(iter(loader))"
   ]
  },
  {
   "cell_type": "code",
   "execution_count": null,
   "metadata": {},
   "outputs": [],
   "source": [
    "scheduler"
   ]
  }
 ],
 "metadata": {
  "colab": {
   "name": "omniglot.ipynb",
   "provenance": [],
   "version": "0.3.2"
  },
  "kernelspec": {
   "display_name": "Python 3",
   "language": "python",
   "name": "python3"
  },
  "language_info": {
   "codemirror_mode": {
    "name": "ipython",
    "version": 3
   },
   "file_extension": ".py",
   "mimetype": "text/x-python",
   "name": "python",
   "nbconvert_exporter": "python",
   "pygments_lexer": "ipython3",
   "version": "3.6.6"
  }
 },
 "nbformat": 4,
 "nbformat_minor": 2
}
