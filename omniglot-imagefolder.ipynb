{
 "cells": [
  {
   "cell_type": "code",
   "execution_count": 1,
   "metadata": {
    "colab": {},
    "colab_type": "code",
    "id": "EcdaHPvTl6k1"
   },
   "outputs": [],
   "source": [
    "%matplotlib inline\n",
    "%reload_ext autoreload\n",
    "%autoreload 2"
   ]
  },
  {
   "cell_type": "code",
   "execution_count": 2,
   "metadata": {
    "colab": {},
    "colab_type": "code",
    "id": "rzQyO6MXl6lB"
   },
   "outputs": [],
   "source": [
    "import numpy as np\n",
    "import matplotlib.pyplot as plt\n",
    "import os, sys"
   ]
  },
  {
   "cell_type": "code",
   "execution_count": 3,
   "metadata": {
    "colab": {},
    "colab_type": "code",
    "id": "PKzZO4aFl6lJ"
   },
   "outputs": [],
   "source": [
    "import torch\n",
    "import torch.nn as nn"
   ]
  },
  {
   "cell_type": "code",
   "execution_count": 4,
   "metadata": {
    "colab": {},
    "colab_type": "code",
    "id": "Kel4S_AXl6lQ"
   },
   "outputs": [],
   "source": [
    "import torchvision.datasets as datasets\n",
    "import torchvision.transforms as transforms\n",
    "import random"
   ]
  },
  {
   "cell_type": "markdown",
   "metadata": {
    "colab_type": "text",
    "id": "4TO3cYOLl6nl"
   },
   "source": [
    "## Siamese networks"
   ]
  },
  {
   "cell_type": "code",
   "execution_count": 5,
   "metadata": {
    "colab": {},
    "colab_type": "code",
    "id": "94_wXkcJl6nn"
   },
   "outputs": [],
   "source": [
    "from dataloader import SiameseTestData_ImageFolder, SiameseTrainData_ImageFolder\n",
    "from networks import SiameseNet\n",
    "from losses import ContrastiveLoss\n",
    "import torchvision.models as models\n",
    "import torch.optim.lr_scheduler as lr_scheduler\n",
    "from utils import AverageMeter\n",
    "import time"
   ]
  },
  {
   "cell_type": "code",
   "execution_count": 6,
   "metadata": {
    "colab": {},
    "colab_type": "code",
    "id": "uX05OgMLl6n5"
   },
   "outputs": [],
   "source": [
    "input_size = 105\n",
    "learning_rate = 1e3\n",
    "epochs = 200\n",
    "batch_size = 256\n",
    "num_workers = 4"
   ]
  },
  {
   "cell_type": "code",
   "execution_count": 14,
   "metadata": {},
   "outputs": [
    {
     "data": {
      "text/plain": [
       "device(type='cpu')"
      ]
     },
     "execution_count": 14,
     "metadata": {},
     "output_type": "execute_result"
    }
   ],
   "source": [
    "cuda = False\n",
    "if torch.cuda.is_available():\n",
    "    device = torch.device(\"cuda\")\n",
    "    cuda = True\n",
    "else:\n",
    "    device = torch.device(\"cpu\")\n",
    "device"
   ]
  },
  {
   "cell_type": "code",
   "execution_count": 15,
   "metadata": {
    "colab": {},
    "colab_type": "code",
    "id": "JSinghKil6n7"
   },
   "outputs": [],
   "source": [
    "data_transforms = {\n",
    "        'train': transforms.Compose([\n",
    "            transforms.Grayscale(num_output_channels=1),\n",
    "            transforms.Resize((input_size, input_size)),\n",
    "            transforms.RandomHorizontalFlip(),\n",
    "            transforms.ToTensor(),\n",
    "            transforms.Normalize((0.5, 0.5, 0.5), (0.5, 0.5, 0.5))\n",
    "        ]),\n",
    "        'val': transforms.Compose([\n",
    "            transforms.Grayscale(num_output_channels=1),\n",
    "            transforms.Resize((input_size, input_size)),\n",
    "            transforms.ToTensor(),\n",
    "            transforms.Normalize((0.5, 0.5, 0.5), (0.5, 0.5, 0.5))])\n",
    "    }"
   ]
  },
  {
   "cell_type": "code",
   "execution_count": 16,
   "metadata": {
    "colab": {},
    "colab_type": "code",
    "id": "WPOnZFyVl6oA",
    "outputId": "e3567e7d-9181-4c21-e3ac-771e8ad406df"
   },
   "outputs": [],
   "source": [
    "trainset = datasets.ImageFolder('./omniglot_data/changed/train', transform=data_transforms['train'])\n",
    "valset = datasets.ImageFolder('./omniglot_data/changed/valid', transform=data_transforms['val'])\n",
    "testset =  datasets.ImageFolder('./omniglot_data/changed/test', transform=data_transforms['val'])"
   ]
  },
  {
   "cell_type": "code",
   "execution_count": 17,
   "metadata": {},
   "outputs": [],
   "source": [
    "train_siamese = SiameseTrainData_ImageFolder(trainset)\n",
    "val_siamese = SiameseTestData_ImageFolder(valset, times=161)"
   ]
  },
  {
   "cell_type": "code",
   "execution_count": 18,
   "metadata": {
    "colab": {},
    "colab_type": "code",
    "id": "tE0ksk1wl6oi"
   },
   "outputs": [],
   "source": [
    "trainloader = torch.utils.data.DataLoader(train_siamese, batch_size=batch_size, shuffle=True, num_workers=4, pin_memory=True)\n",
    "valloader = torch.utils.data.DataLoader(val_siamese, batch_size=20, shuffle=False, num_workers=4, pin_memory=True)"
   ]
  },
  {
   "cell_type": "code",
   "execution_count": 19,
   "metadata": {
    "colab": {},
    "colab_type": "code",
    "id": "g6WGnzHbl6ol"
   },
   "outputs": [],
   "source": [
    "class KochNet(nn.Module):\n",
    "\n",
    "    def __init__(self):\n",
    "        super(KochNet, self).__init__()\n",
    "        self.features = nn.Sequential(\n",
    "            # 1x105x105\n",
    "            nn.Conv2d(1, 64, kernel_size=10),\n",
    "            # 64x96x96\n",
    "            nn.ReLU(inplace=True), \n",
    "            nn.MaxPool2d(kernel_size=2),\n",
    "            # 64x48x48\n",
    "            nn.Conv2d(64, 128, kernel_size=7),\n",
    "            # 128x42x42\n",
    "            nn.ReLU(inplace=True),\n",
    "            nn.MaxPool2d(kernel_size=2),\n",
    "            # 128x21x21\n",
    "            nn.Conv2d(128, 128, kernel_size=4),\n",
    "            # 128x18x18\n",
    "            nn.ReLU(inplace=True),\n",
    "            nn.MaxPool2d(kernel_size=2),\n",
    "            # 128x9x9\n",
    "            nn.Conv2d(128, 256, kernel_size=4),\n",
    "            # 256x6x6\n",
    "            nn.ReLU(inplace=True),\n",
    "        )\n",
    "        self.fc = nn.Sequential(\n",
    "            nn.Dropout(),\n",
    "            nn.Linear(256 * 6 * 6, 4096),\n",
    "            nn.Sigmoid(),\n",
    "        )\n",
    "        self.output = nn.Linear(4096, 1)\n",
    "        \n",
    "\n",
    "    def forward(self, x1, x2):\n",
    "        x1 = self.features(x1)\n",
    "        x1 = x1.view(x1.size(0), 256 * 6 * 6)\n",
    "        x1 = self.fc(x1)\n",
    "        x2 = self.features(x2)\n",
    "        x2 = x2.view(x2.size(0), 256 * 6 * 6)\n",
    "        x2 = self.fc(x2)\n",
    "        dist = torch.abs(x1 - x2)\n",
    "        out = self.output(dist)\n",
    "        return out"
   ]
  },
  {
   "cell_type": "code",
   "execution_count": 20,
   "metadata": {},
   "outputs": [],
   "source": [
    "model = KochNet()\n",
    "optimizer = torch.optim.Adam(model.parameters(), lr=learning_rate)\n",
    "if cuda:\n",
    "    model.to(device)"
   ]
  },
  {
   "cell_type": "code",
   "execution_count": 21,
   "metadata": {
    "colab": {},
    "colab_type": "code",
    "id": "8s6fxM0Yl6on"
   },
   "outputs": [],
   "source": [
    "T_max = epochs\n",
    "eta_min = 0.01\n",
    "scheduler = lr_scheduler.CosineAnnealingLR(optimizer, T_max=T_max, eta_min=eta_min)\n",
    "criterion = nn.BCEWithLogitsLoss()"
   ]
  },
  {
   "cell_type": "code",
   "execution_count": 22,
   "metadata": {
    "colab": {},
    "colab_type": "code",
    "id": "qi95lrtFl6ov"
   },
   "outputs": [],
   "source": [
    "def train(train_loader, model, criterion, optimizer, epoch, device, debug=False, print_freq=200):\n",
    "    batch_time = AverageMeter()\n",
    "    data_time = AverageMeter()\n",
    "    losses = AverageMeter()\n",
    "\n",
    "    # switch to train mode\n",
    "    model.train()\n",
    "\n",
    "    end = time.time()\n",
    "    for batch_idx, (imgs1, imgs2, targets) in enumerate(train_loader):\n",
    "        data_time.update(time.time() - end)\n",
    "\n",
    "        imgs1 = imgs1.to(device).float()\n",
    "        imgs2 = imgs2.to(device).float()\n",
    "        targets = targets.to(device).float()\n",
    "\n",
    "        output = model(imgs1, imgs2)\n",
    "\n",
    "        loss = criterion(output, targets)\n",
    "\n",
    "        losses.update(loss.item(), imgs1.size(0))\n",
    "\n",
    "        optimizer.zero_grad()\n",
    "        loss.backward()\n",
    "        optimizer.step()\n",
    "\n",
    "        # measure elapsed time\n",
    "        batch_time.update(time.time() - end)\n",
    "        end = time.time()\n",
    "\n",
    "        if batch_idx % print_freq == 0:\n",
    "            print('Epoch: [{0}][{1}/{2}]\\t'\n",
    "                  'Time {batch_time.val:.3f} ({batch_time.avg:.3f})\\t'\n",
    "                  'Data {data_time.val:.3f} ({data_time.avg:.3f})\\t'\n",
    "                  'Loss {loss.val:.4f} ({loss.avg:.4f})'.format(\n",
    "                      epoch, batch_idx, len(train_loader), batch_time=batch_time,\n",
    "                      data_time=data_time, loss=losses))\n",
    "        if debug:\n",
    "            break\n",
    "\n",
    "    return losses.avg"
   ]
  },
  {
   "cell_type": "code",
   "execution_count": 23,
   "metadata": {},
   "outputs": [],
   "source": [
    "def validate(val_loader, model, epoch, device, print_freq=100):\n",
    "    batch_time = AverageMeter()\n",
    "\n",
    "    # switch to evaluate mode\n",
    "    model.eval()\n",
    "    right, error = 0, 0\n",
    "    with torch.no_grad():\n",
    "        end = time.time()\n",
    "        for batch_idx, (imgs1, imgs2) in enumerate(val_loader):\n",
    "            imgs1 = imgs1.to(device).float()\n",
    "            imgs2 = imgs2.to(device).float()\n",
    "            \n",
    "           \n",
    "            output = model(imgs1, imgs2)\n",
    "#             print(output)\n",
    "            pred = np.argmax(output.cpu().numpy())\n",
    "#             print(pred)\n",
    "            if pred == 0:\n",
    "                right += 1\n",
    "            else: error += 1\n",
    "           \n",
    "\n",
    "            # measure elapsed time\n",
    "            batch_time.update(time.time() - end)\n",
    "            end = time.time()\n",
    "             \n",
    "            if batch_idx % print_freq == 0:\n",
    "                print('*'*70)\n",
    "                print('[%d]\\tcorrect:\\t%d\\twrong:\\t%d\\tprecision:\\t%f'%(batch_idx, right, error, right*1.0/(right+error)))\n",
    "                print('*'*70)\n",
    "                print('Time {batch_time.val:.3f} ({batch_time.avg:.3f})\\t'.format(batch_time=batch_time))"
   ]
  },
  {
   "cell_type": "code",
   "execution_count": null,
   "metadata": {},
   "outputs": [],
   "source": []
  },
  {
   "cell_type": "code",
   "execution_count": 17,
   "metadata": {},
   "outputs": [
    {
     "name": "stdout",
     "output_type": "stream",
     "text": [
      "**********************************************************************\n",
      "Epoch: [0][0/63]\tTime 1.599 (1.599)\tData 0.677 (0.677)\tLoss 0.6932 (0.6932)\n",
      "Epoch: [0][10/63]\tTime 0.888 (0.953)\tData 0.000 (0.062)\tLoss 13010.0781 (61147.0602)\n",
      "Epoch: [0][20/63]\tTime 0.892 (0.922)\tData 0.000 (0.032)\tLoss 28952.9883 (45831.8793)\n",
      "Epoch: [0][30/63]\tTime 0.888 (0.910)\tData 0.000 (0.022)\tLoss 22080.5781 (39842.8959)\n",
      "Epoch: [0][40/63]\tTime 0.885 (0.904)\tData 0.000 (0.017)\tLoss 16020.5391 (36838.8013)\n",
      "Epoch: [0][50/63]\tTime 0.890 (0.901)\tData 0.000 (0.013)\tLoss 21635.7910 (34108.7984)\n",
      "Epoch: [0][60/63]\tTime 0.888 (0.899)\tData 0.000 (0.011)\tLoss 14106.1367 (31935.5298)\n",
      "**********************************************************************\n",
      "[0]\tcorrect:\t0\twrong:\t1\tprecision:\t0.000000\n",
      "**********************************************************************\n",
      "Time 0.229 (0.229)\t\n",
      "**********************************************************************\n",
      "[100]\tcorrect:\t2\twrong:\t99\tprecision:\t0.019802\n",
      "**********************************************************************\n",
      "Time 0.050 (0.051)\t\n",
      "**********************************************************************\n",
      "Epoch: [1][0/63]\tTime 1.444 (1.444)\tData 0.687 (0.687)\tLoss 12892.2109 (12892.2109)\n",
      "Epoch: [1][10/63]\tTime 0.886 (0.938)\tData 0.000 (0.063)\tLoss 14358.7666 (13742.1827)\n",
      "Epoch: [1][20/63]\tTime 0.889 (0.914)\tData 0.000 (0.033)\tLoss 14625.7197 (13451.8361)\n",
      "Epoch: [1][30/63]\tTime 0.885 (0.905)\tData 0.000 (0.022)\tLoss 9462.6152 (13278.0221)\n",
      "Epoch: [1][40/63]\tTime 0.886 (0.901)\tData 0.000 (0.017)\tLoss 23310.3887 (13553.5498)\n",
      "Epoch: [1][50/63]\tTime 0.889 (0.898)\tData 0.000 (0.014)\tLoss 15059.8213 (14065.0849)\n",
      "Epoch: [1][60/63]\tTime 0.886 (0.896)\tData 0.000 (0.011)\tLoss 11592.9824 (13948.1075)\n",
      "**********************************************************************\n",
      "Epoch: [2][0/63]\tTime 1.246 (1.246)\tData 0.487 (0.487)\tLoss 9689.8076 (9689.8076)\n",
      "Epoch: [2][10/63]\tTime 0.890 (0.920)\tData 0.000 (0.044)\tLoss 12789.0566 (11147.4531)\n",
      "Epoch: [2][20/63]\tTime 0.886 (0.904)\tData 0.000 (0.023)\tLoss 10780.0225 (11286.7263)\n",
      "Epoch: [2][30/63]\tTime 0.891 (0.899)\tData 0.000 (0.016)\tLoss 8074.1392 (11014.7186)\n",
      "Epoch: [2][40/63]\tTime 0.886 (0.896)\tData 0.000 (0.012)\tLoss 9083.1211 (11409.2594)\n",
      "Epoch: [2][50/63]\tTime 0.887 (0.894)\tData 0.000 (0.010)\tLoss 15475.3867 (11639.9343)\n",
      "Epoch: [2][60/63]\tTime 0.887 (0.893)\tData 0.000 (0.008)\tLoss 12716.6973 (11845.5608)\n",
      "**********************************************************************\n",
      "Epoch: [3][0/63]\tTime 1.406 (1.406)\tData 0.651 (0.651)\tLoss 8602.9033 (8602.9033)\n",
      "Epoch: [3][10/63]\tTime 0.887 (0.935)\tData 0.000 (0.059)\tLoss 10676.5723 (12823.4885)\n",
      "Epoch: [3][20/63]\tTime 0.888 (0.912)\tData 0.000 (0.031)\tLoss 10481.7578 (12821.1913)\n",
      "Epoch: [3][30/63]\tTime 0.884 (0.904)\tData 0.000 (0.021)\tLoss 30066.1191 (14377.3816)\n",
      "Epoch: [3][40/63]\tTime 0.887 (0.900)\tData 0.000 (0.016)\tLoss 12003.8428 (14139.3928)\n",
      "Epoch: [3][50/63]\tTime 0.887 (0.897)\tData 0.000 (0.013)\tLoss 12877.6992 (14386.9080)\n",
      "Epoch: [3][60/63]\tTime 0.887 (0.896)\tData 0.000 (0.011)\tLoss 22624.5625 (14370.2832)\n",
      "**********************************************************************\n",
      "Epoch: [4][0/63]\tTime 1.235 (1.235)\tData 0.473 (0.473)\tLoss 22198.2949 (22198.2949)\n",
      "Epoch: [4][10/63]\tTime 0.888 (0.918)\tData 0.000 (0.043)\tLoss 18936.1504 (14885.9830)\n",
      "Epoch: [4][20/63]\tTime 0.888 (0.904)\tData 0.000 (0.023)\tLoss 12430.4365 (14696.5303)\n",
      "Epoch: [4][30/63]\tTime 0.889 (0.899)\tData 0.000 (0.015)\tLoss 18380.0332 (14908.2990)\n",
      "Epoch: [4][40/63]\tTime 0.887 (0.896)\tData 0.000 (0.012)\tLoss 15148.7920 (15305.0905)\n",
      "Epoch: [4][50/63]\tTime 0.890 (0.894)\tData 0.000 (0.009)\tLoss 12122.9688 (15487.7637)\n",
      "Epoch: [4][60/63]\tTime 0.886 (0.893)\tData 0.000 (0.008)\tLoss 8645.8623 (15195.4476)\n",
      "**********************************************************************\n",
      "Epoch: [5][0/63]\tTime 1.220 (1.220)\tData 0.466 (0.466)\tLoss 14438.5059 (14438.5059)\n",
      "Epoch: [5][10/63]\tTime 0.890 (0.918)\tData 0.000 (0.043)\tLoss 8738.5840 (13551.7178)\n",
      "Epoch: [5][20/63]\tTime 0.888 (0.903)\tData 0.000 (0.022)\tLoss 16487.9980 (13200.0135)\n",
      "Epoch: [5][30/63]\tTime 0.884 (0.898)\tData 0.000 (0.015)\tLoss 16746.6484 (13966.7955)\n",
      "Epoch: [5][40/63]\tTime 0.887 (0.895)\tData 0.000 (0.012)\tLoss 19224.1367 (14467.4226)\n",
      "Epoch: [5][50/63]\tTime 0.887 (0.894)\tData 0.000 (0.009)\tLoss 18399.5684 (14380.2351)\n",
      "Epoch: [5][60/63]\tTime 0.890 (0.893)\tData 0.000 (0.008)\tLoss 18391.2891 (14066.9125)\n",
      "**********************************************************************\n",
      "Epoch: [6][0/63]\tTime 1.228 (1.228)\tData 0.471 (0.471)\tLoss 13917.7852 (13917.7852)\n",
      "Epoch: [6][10/63]\tTime 0.889 (0.918)\tData 0.000 (0.043)\tLoss 11027.3848 (15206.2418)\n",
      "Epoch: [6][20/63]\tTime 0.885 (0.904)\tData 0.000 (0.023)\tLoss 10130.6875 (14363.1236)\n",
      "Epoch: [6][30/63]\tTime 0.886 (0.898)\tData 0.000 (0.015)\tLoss 10195.1865 (14007.5438)\n",
      "Epoch: [6][40/63]\tTime 0.884 (0.896)\tData 0.000 (0.012)\tLoss 22656.5859 (14024.0514)\n",
      "Epoch: [6][50/63]\tTime 0.889 (0.894)\tData 0.000 (0.009)\tLoss 18635.1836 (13836.4952)\n",
      "Epoch: [6][60/63]\tTime 0.887 (0.893)\tData 0.000 (0.008)\tLoss 33397.2148 (16604.1710)\n",
      "**********************************************************************\n",
      "Epoch: [7][0/63]\tTime 1.233 (1.233)\tData 0.479 (0.479)\tLoss 12728.2285 (12728.2285)\n",
      "Epoch: [7][10/63]\tTime 0.889 (0.919)\tData 0.000 (0.044)\tLoss 18098.9414 (57230.4091)\n",
      "Epoch: [7][20/63]\tTime 0.886 (0.904)\tData 0.000 (0.023)\tLoss 20456.4922 (45571.7909)\n",
      "Epoch: [7][30/63]\tTime 0.886 (0.898)\tData 0.000 (0.016)\tLoss 20451.7949 (37864.9420)\n",
      "Epoch: [7][40/63]\tTime 0.886 (0.896)\tData 0.000 (0.012)\tLoss 12981.7510 (32339.0648)\n",
      "Epoch: [7][50/63]\tTime 0.887 (0.894)\tData 0.000 (0.010)\tLoss 13534.8477 (28641.4400)\n",
      "Epoch: [7][60/63]\tTime 0.887 (0.893)\tData 0.000 (0.008)\tLoss 11246.0977 (26022.8307)\n",
      "**********************************************************************\n",
      "Epoch: [8][0/63]\tTime 1.343 (1.343)\tData 0.589 (0.589)\tLoss 9764.3623 (9764.3623)\n",
      "Epoch: [8][10/63]\tTime 0.886 (0.930)\tData 0.000 (0.054)\tLoss 10476.8857 (12881.7179)\n",
      "Epoch: [8][20/63]\tTime 0.886 (0.910)\tData 0.000 (0.028)\tLoss 9538.6738 (12752.4287)\n",
      "Epoch: [8][30/63]\tTime 0.884 (0.902)\tData 0.000 (0.019)\tLoss 10758.0303 (12731.1030)\n",
      "Epoch: [8][40/63]\tTime 0.887 (0.898)\tData 0.000 (0.015)\tLoss 9557.9336 (12912.3732)\n",
      "Epoch: [8][50/63]\tTime 0.888 (0.896)\tData 0.000 (0.012)\tLoss 10624.2949 (13390.6777)\n",
      "Epoch: [8][60/63]\tTime 0.888 (0.895)\tData 0.000 (0.010)\tLoss 11021.0293 (13385.3849)\n",
      "**********************************************************************\n",
      "Epoch: [9][0/63]\tTime 1.271 (1.271)\tData 0.515 (0.515)\tLoss 13381.4902 (13381.4902)\n",
      "Epoch: [9][10/63]\tTime 0.888 (0.923)\tData 0.000 (0.047)\tLoss 8942.6064 (11235.3512)\n",
      "Epoch: [9][20/63]\tTime 0.886 (0.906)\tData 0.000 (0.025)\tLoss 11138.4951 (11901.6445)\n",
      "Epoch: [9][30/63]\tTime 0.884 (0.900)\tData 0.000 (0.017)\tLoss 8926.6836 (11614.4827)\n"
     ]
    },
    {
     "name": "stderr",
     "output_type": "stream",
     "text": [
      "Process Process-41:\n",
      "Process Process-43:\n",
      "Process Process-44:\n",
      "Process Process-42:\n",
      "Traceback (most recent call last):\n",
      "Traceback (most recent call last):\n",
      "  File \"/home/var/anaconda3/envs/diss/lib/python3.6/multiprocessing/process.py\", line 258, in _bootstrap\n",
      "    self.run()\n",
      "Traceback (most recent call last):\n",
      "Traceback (most recent call last):\n",
      "  File \"/home/var/anaconda3/envs/diss/lib/python3.6/multiprocessing/process.py\", line 258, in _bootstrap\n",
      "    self.run()\n",
      "  File \"/home/var/anaconda3/envs/diss/lib/python3.6/multiprocessing/process.py\", line 258, in _bootstrap\n",
      "    self.run()\n",
      "  File \"/home/var/anaconda3/envs/diss/lib/python3.6/multiprocessing/process.py\", line 93, in run\n",
      "    self._target(*self._args, **self._kwargs)\n",
      "  File \"/home/var/anaconda3/envs/diss/lib/python3.6/multiprocessing/process.py\", line 258, in _bootstrap\n",
      "    self.run()\n",
      "  File \"/home/var/anaconda3/envs/diss/lib/python3.6/site-packages/torch/utils/data/dataloader.py\", line 96, in _worker_loop\n",
      "    r = index_queue.get(timeout=MANAGER_STATUS_CHECK_INTERVAL)\n",
      "  File \"/home/var/anaconda3/envs/diss/lib/python3.6/multiprocessing/queues.py\", line 104, in get\n",
      "    if not self._poll(timeout):\n",
      "  File \"/home/var/anaconda3/envs/diss/lib/python3.6/multiprocessing/process.py\", line 93, in run\n",
      "    self._target(*self._args, **self._kwargs)\n",
      "  File \"/home/var/anaconda3/envs/diss/lib/python3.6/multiprocessing/process.py\", line 93, in run\n",
      "    self._target(*self._args, **self._kwargs)\n",
      "  File \"/home/var/anaconda3/envs/diss/lib/python3.6/multiprocessing/process.py\", line 93, in run\n",
      "    self._target(*self._args, **self._kwargs)\n",
      "  File \"/home/var/anaconda3/envs/diss/lib/python3.6/multiprocessing/connection.py\", line 257, in poll\n",
      "    return self._poll(timeout)\n",
      "  File \"/home/var/anaconda3/envs/diss/lib/python3.6/site-packages/torch/utils/data/dataloader.py\", line 96, in _worker_loop\n",
      "    r = index_queue.get(timeout=MANAGER_STATUS_CHECK_INTERVAL)\n",
      "  File \"/home/var/anaconda3/envs/diss/lib/python3.6/site-packages/torch/utils/data/dataloader.py\", line 96, in _worker_loop\n",
      "    r = index_queue.get(timeout=MANAGER_STATUS_CHECK_INTERVAL)\n",
      "  File \"/home/var/anaconda3/envs/diss/lib/python3.6/multiprocessing/connection.py\", line 414, in _poll\n",
      "    r = wait([self], timeout)\n",
      "  File \"/home/var/anaconda3/envs/diss/lib/python3.6/multiprocessing/queues.py\", line 104, in get\n",
      "    if not self._poll(timeout):\n",
      "  File \"/home/var/anaconda3/envs/diss/lib/python3.6/multiprocessing/queues.py\", line 104, in get\n",
      "    if not self._poll(timeout):\n",
      "  File \"/home/var/anaconda3/envs/diss/lib/python3.6/multiprocessing/connection.py\", line 911, in wait\n",
      "    ready = selector.select(timeout)\n",
      "  File \"/home/var/anaconda3/envs/diss/lib/python3.6/site-packages/torch/utils/data/dataloader.py\", line 106, in _worker_loop\n",
      "    samples = collate_fn([dataset[i] for i in batch_indices])\n",
      "  File \"/home/var/anaconda3/envs/diss/lib/python3.6/multiprocessing/connection.py\", line 257, in poll\n",
      "    return self._poll(timeout)\n",
      "  File \"/home/var/anaconda3/envs/diss/lib/python3.6/selectors.py\", line 376, in select\n",
      "    fd_event_list = self._poll.poll(timeout)\n",
      "KeyboardInterrupt\n",
      "  File \"/home/var/anaconda3/envs/diss/lib/python3.6/multiprocessing/connection.py\", line 257, in poll\n",
      "    return self._poll(timeout)\n",
      "  File \"/home/var/anaconda3/envs/diss/lib/python3.6/site-packages/torch/utils/data/dataloader.py\", line 106, in <listcomp>\n",
      "    samples = collate_fn([dataset[i] for i in batch_indices])\n",
      "  File \"/home/var/anaconda3/envs/diss/lib/python3.6/multiprocessing/connection.py\", line 414, in _poll\n",
      "    r = wait([self], timeout)\n",
      "  File \"/home/var/anaconda3/envs/diss/lib/python3.6/multiprocessing/connection.py\", line 414, in _poll\n",
      "    r = wait([self], timeout)\n",
      "  File \"/home/var/anaconda3/envs/diss/lib/python3.6/multiprocessing/connection.py\", line 911, in wait\n",
      "    ready = selector.select(timeout)\n",
      "  File \"/home/var/fellowshipai/dataloader.py\", line 92, in __getitem__\n",
      "    img1, label1 = self.dataset[index]\n",
      "  File \"/home/var/anaconda3/envs/diss/lib/python3.6/multiprocessing/connection.py\", line 911, in wait\n",
      "    ready = selector.select(timeout)\n",
      "  File \"/home/var/anaconda3/envs/diss/lib/python3.6/selectors.py\", line 376, in select\n",
      "    fd_event_list = self._poll.poll(timeout)\n",
      "KeyboardInterrupt\n",
      "  File \"/home/var/anaconda3/envs/diss/lib/python3.6/selectors.py\", line 376, in select\n",
      "    fd_event_list = self._poll.poll(timeout)\n",
      "  File \"/home/var/anaconda3/envs/diss/lib/python3.6/site-packages/torchvision-0.2.1-py3.6.egg/torchvision/datasets/folder.py\", line 101, in __getitem__\n",
      "    sample = self.loader(path)\n",
      "  File \"/home/var/anaconda3/envs/diss/lib/python3.6/site-packages/torchvision-0.2.1-py3.6.egg/torchvision/datasets/folder.py\", line 147, in default_loader\n",
      "    return pil_loader(path)\n",
      "KeyboardInterrupt\n",
      "  File \"/home/var/anaconda3/envs/diss/lib/python3.6/site-packages/torchvision-0.2.1-py3.6.egg/torchvision/datasets/folder.py\", line 130, in pil_loader\n",
      "    return img.convert('RGB')\n",
      "  File \"/home/var/anaconda3/envs/diss/lib/python3.6/site-packages/PIL/Image.py\", line 879, in convert\n",
      "    self.load()\n",
      "  File \"/home/var/anaconda3/envs/diss/lib/python3.6/site-packages/PIL/ImageFile.py\", line 207, in load\n",
      "    decoder.setimage(self.im, extents)\n",
      "KeyboardInterrupt\n",
      "Exception ignored in: <bound method _DataLoaderIter.__del__ of <torch.utils.data.dataloader._DataLoaderIter object at 0x7fe6cb63c978>>\n",
      "Traceback (most recent call last):\n",
      "  File \"/home/var/anaconda3/envs/diss/lib/python3.6/site-packages/torch/utils/data/dataloader.py\", line 397, in __del__\n",
      "    def __del__(self):\n",
      "  File \"/home/var/anaconda3/envs/diss/lib/python3.6/site-packages/torch/utils/data/dataloader.py\", line 227, in handler\n",
      "    _error_if_any_worker_fails()\n",
      "RuntimeError: DataLoader worker (pid 21079) exited unexpectedly with exit code 1. Details are lost due to multiprocessing. Rerunning with num_workers=0 may give better error trace.\n"
     ]
    },
    {
     "ename": "KeyboardInterrupt",
     "evalue": "",
     "output_type": "error",
     "traceback": [
      "\u001b[0;31m---------------------------------------------------------------------------\u001b[0m",
      "\u001b[0;31mKeyboardInterrupt\u001b[0m                         Traceback (most recent call last)",
      "\u001b[0;32m<ipython-input-17-c26291f2f7d1>\u001b[0m in \u001b[0;36m<module>\u001b[0;34m()\u001b[0m\n\u001b[1;32m      2\u001b[0m     \u001b[0mscheduler\u001b[0m\u001b[0;34m.\u001b[0m\u001b[0mstep\u001b[0m\u001b[0;34m(\u001b[0m\u001b[0;34m)\u001b[0m\u001b[0;34m\u001b[0m\u001b[0m\n\u001b[1;32m      3\u001b[0m     \u001b[0mprint\u001b[0m\u001b[0;34m(\u001b[0m\u001b[0;34m'*'\u001b[0m\u001b[0;34m*\u001b[0m\u001b[0;36m70\u001b[0m\u001b[0;34m)\u001b[0m\u001b[0;34m\u001b[0m\u001b[0m\n\u001b[0;32m----> 4\u001b[0;31m     \u001b[0mtrain\u001b[0m\u001b[0;34m(\u001b[0m\u001b[0mtrainloader\u001b[0m\u001b[0;34m,\u001b[0m \u001b[0mmodel\u001b[0m\u001b[0;34m,\u001b[0m \u001b[0mcriterion\u001b[0m\u001b[0;34m,\u001b[0m \u001b[0moptimizer\u001b[0m\u001b[0;34m,\u001b[0m \u001b[0me\u001b[0m\u001b[0;34m,\u001b[0m \u001b[0mdevice\u001b[0m\u001b[0;34m,\u001b[0m \u001b[0;32mFalse\u001b[0m\u001b[0;34m,\u001b[0m \u001b[0;36m10\u001b[0m\u001b[0;34m)\u001b[0m\u001b[0;34m\u001b[0m\u001b[0m\n\u001b[0m\u001b[1;32m      5\u001b[0m     \u001b[0;32mif\u001b[0m \u001b[0me\u001b[0m \u001b[0;34m%\u001b[0m \u001b[0;36m10\u001b[0m \u001b[0;34m==\u001b[0m \u001b[0;36m0\u001b[0m\u001b[0;34m:\u001b[0m\u001b[0;34m\u001b[0m\u001b[0m\n\u001b[1;32m      6\u001b[0m         \u001b[0mvalidate\u001b[0m\u001b[0;34m(\u001b[0m\u001b[0mvalloader\u001b[0m\u001b[0;34m,\u001b[0m \u001b[0mmodel\u001b[0m\u001b[0;34m,\u001b[0m \u001b[0me\u001b[0m\u001b[0;34m,\u001b[0m \u001b[0mdevice\u001b[0m\u001b[0;34m)\u001b[0m\u001b[0;34m\u001b[0m\u001b[0m\n",
      "\u001b[0;32m<ipython-input-15-eb1dcd3a5b10>\u001b[0m in \u001b[0;36mtrain\u001b[0;34m(train_loader, model, criterion, optimizer, epoch, device, debug, print_freq)\u001b[0m\n\u001b[1;32m     11\u001b[0m         \u001b[0mdata_time\u001b[0m\u001b[0;34m.\u001b[0m\u001b[0mupdate\u001b[0m\u001b[0;34m(\u001b[0m\u001b[0mtime\u001b[0m\u001b[0;34m.\u001b[0m\u001b[0mtime\u001b[0m\u001b[0;34m(\u001b[0m\u001b[0;34m)\u001b[0m \u001b[0;34m-\u001b[0m \u001b[0mend\u001b[0m\u001b[0;34m)\u001b[0m\u001b[0;34m\u001b[0m\u001b[0m\n\u001b[1;32m     12\u001b[0m \u001b[0;34m\u001b[0m\u001b[0m\n\u001b[0;32m---> 13\u001b[0;31m         \u001b[0mimgs1\u001b[0m \u001b[0;34m=\u001b[0m \u001b[0mimgs1\u001b[0m\u001b[0;34m.\u001b[0m\u001b[0mto\u001b[0m\u001b[0;34m(\u001b[0m\u001b[0mdevice\u001b[0m\u001b[0;34m)\u001b[0m\u001b[0;34m.\u001b[0m\u001b[0mfloat\u001b[0m\u001b[0;34m(\u001b[0m\u001b[0;34m)\u001b[0m\u001b[0;34m\u001b[0m\u001b[0m\n\u001b[0m\u001b[1;32m     14\u001b[0m         \u001b[0mimgs2\u001b[0m \u001b[0;34m=\u001b[0m \u001b[0mimgs2\u001b[0m\u001b[0;34m.\u001b[0m\u001b[0mto\u001b[0m\u001b[0;34m(\u001b[0m\u001b[0mdevice\u001b[0m\u001b[0;34m)\u001b[0m\u001b[0;34m.\u001b[0m\u001b[0mfloat\u001b[0m\u001b[0;34m(\u001b[0m\u001b[0;34m)\u001b[0m\u001b[0;34m\u001b[0m\u001b[0m\n\u001b[1;32m     15\u001b[0m         \u001b[0mtargets\u001b[0m \u001b[0;34m=\u001b[0m \u001b[0mtargets\u001b[0m\u001b[0;34m.\u001b[0m\u001b[0mto\u001b[0m\u001b[0;34m(\u001b[0m\u001b[0mdevice\u001b[0m\u001b[0;34m)\u001b[0m\u001b[0;34m.\u001b[0m\u001b[0mfloat\u001b[0m\u001b[0;34m(\u001b[0m\u001b[0;34m)\u001b[0m\u001b[0;34m\u001b[0m\u001b[0m\n",
      "\u001b[0;31mKeyboardInterrupt\u001b[0m: "
     ]
    }
   ],
   "source": [
    "for e in range(epochs):\n",
    "    scheduler.step()\n",
    "    print('*'*70)\n",
    "    train(trainloader, model, criterion, optimizer, e, device, False, 10)\n",
    "    if e % 10 == 0:\n",
    "        validate(valloader, model, e, device) "
   ]
  },
  {
   "cell_type": "code",
   "execution_count": 18,
   "metadata": {},
   "outputs": [
    {
     "data": {
      "text/plain": [
       "161.0"
      ]
     },
     "execution_count": 18,
     "metadata": {},
     "output_type": "execute_result"
    }
   ],
   "source": [
    "len(valset)/20"
   ]
  },
  {
   "cell_type": "code",
   "execution_count": 20,
   "metadata": {},
   "outputs": [
    {
     "data": {
      "text/plain": [
       "62.734375"
      ]
     },
     "execution_count": 20,
     "metadata": {},
     "output_type": "execute_result"
    }
   ],
   "source": [
    "len(trainset)/256"
   ]
  },
  {
   "cell_type": "code",
   "execution_count": null,
   "metadata": {},
   "outputs": [],
   "source": []
  }
 ],
 "metadata": {
  "colab": {
   "name": "omniglot.ipynb",
   "provenance": [],
   "version": "0.3.2"
  },
  "kernelspec": {
   "display_name": "Python 3",
   "language": "python",
   "name": "python3"
  },
  "language_info": {
   "codemirror_mode": {
    "name": "ipython",
    "version": 3
   },
   "file_extension": ".py",
   "mimetype": "text/x-python",
   "name": "python",
   "nbconvert_exporter": "python",
   "pygments_lexer": "ipython3",
   "version": "3.6.5"
  }
 },
 "nbformat": 4,
 "nbformat_minor": 2
}
